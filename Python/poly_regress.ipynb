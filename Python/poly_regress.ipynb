{
 "cells": [
  {
   "cell_type": "code",
   "execution_count": 94,
   "metadata": {},
   "outputs": [],
   "source": [
    "import numpy as np\n",
    "from matplotlib import pyplot as plt \n",
    "from numpy import random as rd"
   ]
  },
  {
   "cell_type": "code",
   "execution_count": 95,
   "metadata": {},
   "outputs": [
    {
     "name": "stdout",
     "output_type": "stream",
     "text": [
      "[10, 39, 13, 10, 21, 18, 36, 28, 23, 19]\n",
      "[28.74, 78.59, 37.69, 27.74, 47.89, 35.94, 69.64, 61.44, 53.19, 45.59]\n"
     ]
    }
   ],
   "source": [
    "x = []\n",
    "y = []\n",
    "for i in range(10):\n",
    "    dx = rd.randint(0,40)\n",
    "    dy = dx*1.65 + 12.24 + rd.randint(-6, 6)\n",
    "    x.append(dx)\n",
    "    y.append(round(dy,2))    \n",
    "print(x)\n",
    "print(y)"
   ]
  },
  {
   "cell_type": "code",
   "execution_count": 96,
   "metadata": {},
   "outputs": [
    {
     "data": {
      "text/plain": [
       "[<matplotlib.lines.Line2D at 0x24cad9df7f0>]"
      ]
     },
     "execution_count": 96,
     "metadata": {},
     "output_type": "execute_result"
    },
    {
     "data": {
      "image/png": "[encoded data removed]",
      "text/plain": [
       "<Figure size 432x288 with 1 Axes>"
      ]
     },
     "metadata": {
      "needs_background": "light"
     },
     "output_type": "display_data"
    }
   ],
   "source": [
    "x = [35, 39, 5, 3, 33, 14, 25, 36, 5, 38]\n",
    "y = [63.99, 80.59, 25.49, 21.19, 61.69, 38.34, 50.49, 66.64, 21.49, 77.94]\n",
    "plt.plot(x,y,'.')"
   ]
  },
  {
   "cell_type": "code",
   "execution_count": 97,
   "metadata": {},
   "outputs": [
    {
     "name": "stdout",
     "output_type": "stream",
     "text": [
      "233\n",
      "507.85\n"
     ]
    }
   ],
   "source": [
    "sum_x = np.sum(x)\n",
    "sum_y = np.sum(y)\n",
    "print(sum_x)\n",
    "print(sum_y)"
   ]
  },
  {
   "cell_type": "code",
   "execution_count": 98,
   "metadata": {},
   "outputs": [
    {
     "name": "stdout",
     "output_type": "stream",
     "text": [
      "[2239.65 3143.01  127.45   63.57 2035.77  536.76 1262.25 2399.04  107.45\n",
      " 2961.72]\n",
      "14876.67\n"
     ]
    }
   ],
   "source": [
    "xy = np.multiply(x,y)\n",
    "sum_xy = np.sum(xy)\n",
    "print(xy)\n",
    "print(sum_xy)"
   ]
  },
  {
   "cell_type": "code",
   "execution_count": 99,
   "metadata": {},
   "outputs": [],
   "source": [
    "sqr_x = np.multiply(x,x)\n",
    "sqr_y = np.multiply(y,y)\n",
    "sum_sqr_x = np.sum(sqr_x)\n",
    "sum_sqr_y = np.sum(sqr_y)"
   ]
  },
  {
   "cell_type": "code",
   "execution_count": 100,
   "metadata": {},
   "outputs": [
    {
     "name": "stdout",
     "output_type": "stream",
     "text": [
      "1.5022777750357834\n",
      "15.781927841666262\n"
     ]
    }
   ],
   "source": [
    "n = len(x)\n",
    "b = (sum_y*sum_sqr_x - sum_x*sum_xy)/(n*sum_sqr_x - sum_x*sum_x)\n",
    "a = (n*sum_xy - sum_x*sum_y)/(n*sum_sqr_x - sum_x*sum_x)\n",
    "print(a)\n",
    "print(b)\n",
    "#y = ax+b"
   ]
  },
  {
   "cell_type": "code",
   "execution_count": 101,
   "metadata": {},
   "outputs": [
    {
     "data": {
      "text/plain": [
       "[<matplotlib.lines.Line2D at 0x24cae056970>]"
      ]
     },
     "execution_count": 101,
     "metadata": {},
     "output_type": "execute_result"
    },
    {
     "data": {
      "image/png": "[encoded data removed]",
      "text/plain": [
       "<Figure size 432x288 with 1 Axes>"
      ]
     },
     "metadata": {
      "needs_background": "light"
     },
     "output_type": "display_data"
    }
   ],
   "source": [
    "rx = np.linspace(min(x), max(x), num = n)\n",
    "ry = np.add(np.multiply(rx,a), [b]*n)\n",
    "plt.plot(x,y,'.')\n",
    "plt.plot(rx,ry,'-')"
   ]
  },
  {
   "cell_type": "code",
   "execution_count": 102,
   "metadata": {},
   "outputs": [
    {
     "name": "stdout",
     "output_type": "stream",
     "text": [
      "[ 1.50227778 15.78192784]\n"
     ]
    }
   ],
   "source": [
    "reg = np.polyfit(x,y,1)\n",
    "print(reg)"
   ]
  },
  {
   "cell_type": "code",
   "execution_count": 103,
   "metadata": {},
   "outputs": [
    {
     "data": {
      "text/plain": [
       "[<matplotlib.lines.Line2D at 0x24cae0bfdc0>]"
      ]
     },
     "execution_count": 103,
     "metadata": {},
     "output_type": "execute_result"
    },
    {
     "data": {
      "image/png": "[encoded data removed]",
      "text/plain": [
       "<Figure size 432x288 with 1 Axes>"
      ]
     },
     "metadata": {
      "needs_background": "light"
     },
     "output_type": "display_data"
    }
   ],
   "source": [
    "reg_x = np.linspace(0, 40, num=len(x))\n",
    "reg_y = np.polyval(reg,reg_x)\n",
    "\n",
    "plt.plot(x,y,'.')\n",
    "plt.plot(reg_x,reg_y,'-')\n",
    "# plt.savefig('quad.pdf')"
   ]
  }
 ],
 "metadata": {
  "interpreter": {
   "hash": "bbadec33d079d5c06dee7a8a1a5198ccc167c49499e3c3caaa7d887b1805c0cc"
  },
  "kernelspec": {
   "display_name": "Python 3.9.9 64-bit (windows store)",
   "language": "python",
   "name": "python3"
  },
  "language_info": {
   "codemirror_mode": {
    "name": "ipython",
    "version": 3
   },
   "file_extension": ".py",
   "mimetype": "text/x-python",
   "name": "python",
   "nbconvert_exporter": "python",
   "pygments_lexer": "ipython3",
   "version": "3.9.9"
  },
  "orig_nbformat": 4
 },
 "nbformat": 4,
 "nbformat_minor": 2
}
