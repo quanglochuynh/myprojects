{
 "cells": [
  {
   "cell_type": "code",
   "execution_count": 2,
   "metadata": {},
   "outputs": [],
   "source": [
    "import numpy\n",
    "import math"
   ]
  },
  {
   "cell_type": "code",
   "execution_count": 5,
   "metadata": {},
   "outputs": [],
   "source": [
    "def Levy(dim):\n",
    "    beta = 1.5\n",
    "    sigma = (\n",
    "        math.gamma(1 + beta)\n",
    "        * math.sin(math.pi * beta / 2)\n",
    "        / (math.gamma((1 + beta) / 2) * beta * 2 ** ((beta - 1) / 2))\n",
    "    ) ** (1 / beta)\n",
    "    u = 0.01 * numpy.random.randn(dim) * sigma\n",
    "    v = numpy.random.randn(dim)\n",
    "    zz = numpy.power(numpy.absolute(v), (1 / beta))\n",
    "    step = numpy.divide(u, zz)\n",
    "    return step"
   ]
  },
  {
   "cell_type": "code",
   "execution_count": 13,
   "metadata": {},
   "outputs": [
    {
     "data": {
      "text/plain": [
       "array([-0.00205912,  0.02336416, -0.01171199])"
      ]
     },
     "execution_count": 13,
     "metadata": {},
     "output_type": "execute_result"
    }
   ],
   "source": [
    "Levy(3)"
   ]
  },
  {
   "cell_type": "code",
   "execution_count": 3,
   "metadata": {},
   "outputs": [],
   "source": [
    "beta = 1.5\n",
    "sigma = (\n",
    "    math.gamma(1 + beta)\n",
    "    * math.sin(math.pi * beta / 2)\n",
    "    / (math.gamma((1 + beta) / 2) * beta * 2 ** ((beta - 1) / 2))\n",
    ") ** (1 / beta)\n",
    "\n"
   ]
  },
  {
   "cell_type": "code",
   "execution_count": 5,
   "metadata": {},
   "outputs": [
    {
     "data": {
      "text/plain": [
       "0.6965745025576967"
      ]
     },
     "execution_count": 5,
     "metadata": {},
     "output_type": "execute_result"
    }
   ],
   "source": [
    "sigma"
   ]
  },
  {
   "cell_type": "code",
   "execution_count": 27,
   "metadata": {},
   "outputs": [
    {
     "name": "stdout",
     "output_type": "stream",
     "text": [
      "[ 0.64429818 -0.05916485]\n"
     ]
    }
   ],
   "source": [
    "u = numpy.random.randn(2)\n",
    "print(u)"
   ]
  }
 ],
 "metadata": {
  "kernelspec": {
   "display_name": "Python 3.10.5 64-bit",
   "language": "python",
   "name": "python3"
  },
  "language_info": {
   "codemirror_mode": {
    "name": "ipython",
    "version": 3
   },
   "file_extension": ".py",
   "mimetype": "text/x-python",
   "name": "python",
   "nbconvert_exporter": "python",
   "pygments_lexer": "ipython3",
   "version": "3.10.5"
  },
  "orig_nbformat": 4,
  "vscode": {
   "interpreter": {
    "hash": "26de051ba29f2982a8de78e945f0abaf191376122a1563185a90213a26c5da77"
   }
  }
 },
 "nbformat": 4,
 "nbformat_minor": 2
}
