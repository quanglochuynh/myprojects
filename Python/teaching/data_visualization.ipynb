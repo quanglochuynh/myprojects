{
 "cells": [
  {
   "cell_type": "code",
   "execution_count": 3,
   "metadata": {},
   "outputs": [],
   "source": [
    "import numpy as np\n",
    "import matplotlib.pyplot as plt\n",
    "import pandas as pd"
   ]
  },
  {
   "cell_type": "markdown",
   "metadata": {},
   "source": [
    "pip install pandas"
   ]
  },
  {
   "cell_type": "code",
   "execution_count": 4,
   "metadata": {},
   "outputs": [],
   "source": [
    "# read data\n",
    "frame = pd.read_csv(\"dataset/mango.csv\")"
   ]
  },
  {
   "cell_type": "code",
   "execution_count": 5,
   "metadata": {},
   "outputs": [
    {
     "data": {
      "text/html": [
       "<div>\n",
       "<style scoped>\n",
       "    .dataframe tbody tr th:only-of-type {\n",
       "        vertical-align: middle;\n",
       "    }\n",
       "\n",
       "    .dataframe tbody tr th {\n",
       "        vertical-align: top;\n",
       "    }\n",
       "\n",
       "    .dataframe thead th {\n",
       "        text-align: right;\n",
       "    }\n",
       "</style>\n",
       "<table border=\"1\" class=\"dataframe\">\n",
       "  <thead>\n",
       "    <tr style=\"text-align: right;\">\n",
       "      <th></th>\n",
       "      <th>GreenMango Length</th>\n",
       "      <th>GreenMangowidth</th>\n",
       "      <th>YelloMangoLength</th>\n",
       "      <th>YelloMangoWidth</th>\n",
       "    </tr>\n",
       "  </thead>\n",
       "  <tbody>\n",
       "    <tr>\n",
       "      <th>0</th>\n",
       "      <td>10.2</td>\n",
       "      <td>10.5</td>\n",
       "      <td>5.6</td>\n",
       "      <td>0.6</td>\n",
       "    </tr>\n",
       "    <tr>\n",
       "      <th>1</th>\n",
       "      <td>9.8</td>\n",
       "      <td>9.0</td>\n",
       "      <td>5.6</td>\n",
       "      <td>0.6</td>\n",
       "    </tr>\n",
       "    <tr>\n",
       "      <th>2</th>\n",
       "      <td>9.4</td>\n",
       "      <td>9.6</td>\n",
       "      <td>5.2</td>\n",
       "      <td>0.6</td>\n",
       "    </tr>\n",
       "    <tr>\n",
       "      <th>3</th>\n",
       "      <td>9.2</td>\n",
       "      <td>9.3</td>\n",
       "      <td>6.0</td>\n",
       "      <td>0.6</td>\n",
       "    </tr>\n",
       "    <tr>\n",
       "      <th>4</th>\n",
       "      <td>10.0</td>\n",
       "      <td>10.8</td>\n",
       "      <td>5.6</td>\n",
       "      <td>0.6</td>\n",
       "    </tr>\n",
       "    <tr>\n",
       "      <th>...</th>\n",
       "      <td>...</td>\n",
       "      <td>...</td>\n",
       "      <td>...</td>\n",
       "      <td>...</td>\n",
       "    </tr>\n",
       "    <tr>\n",
       "      <th>146</th>\n",
       "      <td>12.6</td>\n",
       "      <td>7.5</td>\n",
       "      <td>20.0</td>\n",
       "      <td>5.7</td>\n",
       "    </tr>\n",
       "    <tr>\n",
       "      <th>147</th>\n",
       "      <td>13.0</td>\n",
       "      <td>9.0</td>\n",
       "      <td>20.8</td>\n",
       "      <td>6.0</td>\n",
       "    </tr>\n",
       "    <tr>\n",
       "      <th>148</th>\n",
       "      <td>12.4</td>\n",
       "      <td>10.2</td>\n",
       "      <td>21.6</td>\n",
       "      <td>6.9</td>\n",
       "    </tr>\n",
       "    <tr>\n",
       "      <th>149</th>\n",
       "      <td>11.8</td>\n",
       "      <td>9.0</td>\n",
       "      <td>20.4</td>\n",
       "      <td>5.4</td>\n",
       "    </tr>\n",
       "    <tr>\n",
       "      <th>150</th>\n",
       "      <td>0.0</td>\n",
       "      <td>0.0</td>\n",
       "      <td>0.0</td>\n",
       "      <td>0.0</td>\n",
       "    </tr>\n",
       "  </tbody>\n",
       "</table>\n",
       "<p>151 rows × 4 columns</p>\n",
       "</div>"
      ],
      "text/plain": [
       "     GreenMango Length  GreenMangowidth  YelloMangoLength  YelloMangoWidth\n",
       "0                 10.2             10.5               5.6              0.6\n",
       "1                  9.8              9.0               5.6              0.6\n",
       "2                  9.4              9.6               5.2              0.6\n",
       "3                  9.2              9.3               6.0              0.6\n",
       "4                 10.0             10.8               5.6              0.6\n",
       "..                 ...              ...               ...              ...\n",
       "146               12.6              7.5              20.0              5.7\n",
       "147               13.0              9.0              20.8              6.0\n",
       "148               12.4             10.2              21.6              6.9\n",
       "149               11.8              9.0              20.4              5.4\n",
       "150                0.0              0.0               0.0              0.0\n",
       "\n",
       "[151 rows x 4 columns]"
      ]
     },
     "execution_count": 5,
     "metadata": {},
     "output_type": "execute_result"
    }
   ],
   "source": [
    "frame"
   ]
  },
  {
   "cell_type": "code",
   "execution_count": 6,
   "metadata": {},
   "outputs": [
    {
     "data": {
      "text/plain": [
       "(151, 4)"
      ]
     },
     "execution_count": 6,
     "metadata": {},
     "output_type": "execute_result"
    }
   ],
   "source": [
    "frame.shape"
   ]
  },
  {
   "cell_type": "code",
   "execution_count": 7,
   "metadata": {},
   "outputs": [],
   "source": [
    "array = frame.to_numpy()\n",
    "# print(array)\n",
    "array = array[0:150]"
   ]
  },
  {
   "cell_type": "code",
   "execution_count": 8,
   "metadata": {},
   "outputs": [
    {
     "name": "stdout",
     "output_type": "stream",
     "text": [
      "[[10.2 10.5  5.6  0.6]\n",
      " [ 9.8  9.   5.6  0.6]\n",
      " [ 9.4  9.6  5.2  0.6]\n",
      " [ 9.2  9.3  6.   0.6]\n",
      " [10.  10.8  5.6  0.6]\n",
      " [10.8 11.7  6.8  1.2]\n",
      " [ 9.2 10.2  5.6  0.9]\n",
      " [10.  10.2  6.   0.6]\n",
      " [ 8.8  8.7  5.6  0.6]\n",
      " [ 9.8  9.3  6.   0.3]\n",
      " [10.8 11.1  6.   0.6]\n",
      " [ 9.6 10.2  6.4  0.6]\n",
      " [ 9.6  9.   5.6  0.3]\n",
      " [ 8.6  9.   4.4  0.3]\n",
      " [11.6 12.   4.8  0.6]\n",
      " [11.4 13.2  6.   1.2]\n",
      " [10.8 11.7  5.2  1.2]\n",
      " [10.2 10.5  5.6  0.9]\n",
      " [11.4 11.4  6.8  0.9]\n",
      " [10.2 11.4  6.   0.9]\n",
      " [10.8 10.2  6.8  0.6]\n",
      " [10.2 11.1  6.   1.2]\n",
      " [ 9.2 10.8  4.   0.6]\n",
      " [10.2  9.9  6.8  1.5]\n",
      " [ 9.6 10.2  7.6  0.6]\n",
      " [10.   9.   6.4  0.6]\n",
      " [10.  10.2  6.4  1.2]\n",
      " [10.4 10.5  6.   0.6]\n",
      " [10.4 10.2  5.6  0.6]\n",
      " [ 9.4  9.6  6.4  0.6]\n",
      " [ 9.6  9.3  6.4  0.6]\n",
      " [10.8 10.2  6.   1.2]\n",
      " [10.4 12.3  6.   0.3]\n",
      " [11.  12.6  5.6  0.6]\n",
      " [ 9.8  9.3  6.   0.3]\n",
      " [10.   9.6  4.8  0.6]\n",
      " [11.  10.5  5.2  0.6]\n",
      " [ 9.8  9.3  6.   0.3]\n",
      " [ 8.8  9.   5.2  0.6]\n",
      " [10.2 10.2  6.   0.6]\n",
      " [10.  10.5  5.2  0.9]\n",
      " [ 9.   6.9  5.2  0.9]\n",
      " [ 8.8  9.6  5.2  0.6]\n",
      " [10.  10.5  6.4  1.8]\n",
      " [10.2 11.4  7.6  1.2]\n",
      " [ 9.6  9.   5.6  0.9]\n",
      " [10.2 11.4  6.4  0.6]\n",
      " [ 9.2  9.6  5.6  0.6]\n",
      " [10.6 11.1  6.   0.6]\n",
      " [10.   9.9  5.6  0.6]\n",
      " [14.   9.6 18.8  4.2]\n",
      " [12.8  9.6 18.   4.5]\n",
      " [13.8  9.3 19.6  4.5]\n",
      " [11.   6.9 16.   3.9]\n",
      " [13.   8.4 18.4  4.5]\n",
      " [11.4  8.4 18.   3.9]\n",
      " [12.6  9.9 18.8  4.8]\n",
      " [ 9.8  7.2 13.2  3. ]\n",
      " [13.2  8.7 18.4  3.9]\n",
      " [10.4  8.1 15.6  4.2]\n",
      " [10.   6.  14.   3. ]\n",
      " [11.8  9.  16.8  4.5]\n",
      " [12.   6.6 16.   3. ]\n",
      " [12.2  8.7 18.8  4.2]\n",
      " [11.2  8.7 14.4  3.9]\n",
      " [13.4  9.3 17.6  4.2]\n",
      " [11.2  9.  18.   4.5]\n",
      " [11.6  8.1 16.4  3. ]\n",
      " [12.4  6.6 18.   4.5]\n",
      " [11.2  7.5 15.6  3.3]\n",
      " [11.8  9.6 19.2  5.4]\n",
      " [12.2  8.4 16.   3.9]\n",
      " [12.6  7.5 19.6  4.5]\n",
      " [12.2  8.4 18.8  3.6]\n",
      " [12.8  8.7 17.2  3.9]\n",
      " [13.2  9.  17.6  4.2]\n",
      " [13.6  8.4 19.2  4.2]\n",
      " [13.4  9.  20.   5.1]\n",
      " [12.   8.7 18.   4.5]\n",
      " [11.4  7.8 14.   3. ]\n",
      " [11.   7.2 15.2  3.3]\n",
      " [11.   7.2 14.8  3. ]\n",
      " [11.6  8.1 15.6  3.6]\n",
      " [12.   8.1 20.4  4.8]\n",
      " [10.8  9.  18.   4.5]\n",
      " [12.  10.2 18.   4.8]\n",
      " [13.4  9.3 18.8  4.5]\n",
      " [12.6  6.9 17.6  3.9]\n",
      " [11.2  9.  16.4  3.9]\n",
      " [11.   7.5 16.   3.9]\n",
      " [11.   7.8 17.6  3.6]\n",
      " [12.2  9.  18.4  4.2]\n",
      " [11.6  7.8 16.   3.6]\n",
      " [10.   6.9 13.2  3. ]\n",
      " [11.2  8.1 16.8  3.9]\n",
      " [11.4  9.  16.8  3.6]\n",
      " [11.4  8.7 16.8  3.9]\n",
      " [12.4  8.7 17.2  3.9]\n",
      " [10.2  7.5 12.   3.3]\n",
      " [11.4  8.4 16.4  3.9]\n",
      " [12.6  9.9 24.   7.5]\n",
      " [11.6  8.1 20.4  5.7]\n",
      " [14.2  9.  23.6  6.3]\n",
      " [12.6  8.7 22.4  5.4]\n",
      " [13.   9.  23.2  6.6]\n",
      " [15.2  9.  26.4  6.3]\n",
      " [ 9.8  7.5 18.   5.1]\n",
      " [14.6  8.7 25.2  5.4]\n",
      " [13.4  7.5 23.2  5.4]\n",
      " [14.4 10.8 24.4  7.5]\n",
      " [13.   9.6 20.4  6. ]\n",
      " [12.8  8.1 21.2  5.7]\n",
      " [13.6  9.  22.   6.3]\n",
      " [11.4  7.5 20.   6. ]\n",
      " [11.6  8.4 20.4  7.2]\n",
      " [12.8  9.6 21.2  6.9]\n",
      " [13.   9.  22.   5.4]\n",
      " [15.4 11.4 26.8  6.6]\n",
      " [15.4  7.8 27.6  6.9]\n",
      " [12.   6.6 20.   4.5]\n",
      " [13.8  9.6 22.8  6.9]\n",
      " [11.2  8.4 19.6  6. ]\n",
      " [15.4  8.4 26.8  6. ]\n",
      " [12.6  8.1 19.6  5.4]\n",
      " [13.4  9.9 22.8  6.3]\n",
      " [14.4  9.6 24.   5.4]\n",
      " [12.4  8.4 19.2  5.4]\n",
      " [12.2  9.  19.6  5.4]\n",
      " [12.8  8.4 22.4  6.3]\n",
      " [14.4  9.  23.2  4.8]\n",
      " [14.8  8.4 24.4  5.7]\n",
      " [15.8 11.4 25.6  6. ]\n",
      " [12.8  8.4 22.4  6.6]\n",
      " [12.6  8.4 20.4  4.5]\n",
      " [12.2  7.8 22.4  4.2]\n",
      " [15.4  9.  24.4  6.9]\n",
      " [12.6 10.2 22.4  7.2]\n",
      " [12.8  9.3 22.   5.4]\n",
      " [12.   9.  19.2  5.4]\n",
      " [13.8  9.3 21.6  6.3]\n",
      " [13.4  9.3 22.4  7.2]\n",
      " [13.8  9.3 20.4  6.9]\n",
      " [11.6  8.1 20.4  5.7]\n",
      " [13.6  9.6 23.6  6.9]\n",
      " [13.4  9.9 22.8  7.5]\n",
      " [13.4  9.  20.8  6.9]\n",
      " [12.6  7.5 20.   5.7]\n",
      " [13.   9.  20.8  6. ]\n",
      " [12.4 10.2 21.6  6.9]\n",
      " [11.8  9.  20.4  5.4]]\n"
     ]
    }
   ],
   "source": [
    "print(array)"
   ]
  },
  {
   "cell_type": "code",
   "execution_count": 9,
   "metadata": {},
   "outputs": [],
   "source": [
    "greenL = array[:,0]\n",
    "greenW = array[:,1]\n",
    "yelloL = array[:,2]\n",
    "yelloW = array[:,3]"
   ]
  },
  {
   "cell_type": "code",
   "execution_count": 10,
   "metadata": {},
   "outputs": [
    {
     "data": {
      "image/png": "[encoded data removed]",
      "text/plain": [
       "<Figure size 576x576 with 4 Axes>"
      ]
     },
     "metadata": {
      "needs_background": "light"
     },
     "output_type": "display_data"
    }
   ],
   "source": [
    "#HISTOGRAM\n",
    "plt.rcParams['figure.figsize'] = (8,8)\n",
    "plt.subplot(2,2,1)\n",
    "plt.title(\"greenL\")\n",
    "plt.hist(greenL, 32)\n",
    "plt.subplot(2,2,2)\n",
    "plt.title(\"greenW\")\n",
    "plt.hist(greenW, 32)\n",
    "plt.subplot(2,2,3)\n",
    "plt.title(\"yelloL\")\n",
    "plt.hist(yelloL, 32)\n",
    "plt.subplot(2,2,4)\n",
    "plt.title(\"yelloW\")\n",
    "plt.hist(yelloW, 32)\n",
    "plt.show()"
   ]
  },
  {
   "cell_type": "code",
   "execution_count": 11,
   "metadata": {},
   "outputs": [
    {
     "name": "stdout",
     "output_type": "stream",
     "text": [
      "[ 4  1  4  2  5  6 10  9  5  6  7  6  8  7  3  6 10  9  7  5  2  8  3  4\n",
      "  2  3  1  1  0  1  4  1]\n"
     ]
    }
   ],
   "source": [
    "hist = np.histogram(greenL,32)\n",
    "print(hist[0])\n"
   ]
  },
  {
   "cell_type": "code",
   "execution_count": 12,
   "metadata": {},
   "outputs": [
    {
     "data": {
      "image/png": "[encoded data removed]",
      "text/plain": [
       "<Figure size 432x432 with 1 Axes>"
      ]
     },
     "metadata": {
      "needs_background": "light"
     },
     "output_type": "display_data"
    }
   ],
   "source": [
    "# SCATTER - Correlation\n",
    "plt.rcParams['figure.figsize'] = (6,6)\n",
    "plt.scatter(greenL, greenW)\n",
    "plt.scatter(yelloL, yelloW)\n",
    "plt.xlabel(\"Width\")\n",
    "plt.ylabel(\"Length\")\n",
    "plt.legend([\"Green\", \"Yellow\"])\n",
    "plt.show()"
   ]
  },
  {
   "cell_type": "code",
   "execution_count": 13,
   "metadata": {},
   "outputs": [
    {
     "name": "stdout",
     "output_type": "stream",
     "text": [
      "(2, 150)\n",
      "(2, 150)\n",
      "(300, 2)\n"
     ]
    }
   ],
   "source": [
    "ds_size = np.shape(greenL)\n",
    "# train_ds = np.concatenate()\n",
    "X1 = np.concatenate([[greenL], [greenW]], axis=0)\n",
    "print(np.shape(X1))\n",
    "X2 = np.concatenate([[yelloL], [yelloW]], axis=0)\n",
    "print(np.shape(X2))\n",
    "X = np.concatenate([X1, X2], axis=1)\n",
    "X = np.transpose(X)\n",
    "print(np.shape(X))\n"
   ]
  },
  {
   "cell_type": "code",
   "execution_count": 14,
   "metadata": {},
   "outputs": [
    {
     "name": "stdout",
     "output_type": "stream",
     "text": [
      "(300,)\n"
     ]
    }
   ],
   "source": [
    "Y = np.zeros((300))\n",
    "# Y[0:150,0] = 1\n",
    "Y[150:300] = 1\n",
    "print(np.shape(Y))"
   ]
  },
  {
   "cell_type": "code",
   "execution_count": 15,
   "metadata": {},
   "outputs": [],
   "source": [
    "import sklearn\n",
    "from sklearn import svm"
   ]
  },
  {
   "cell_type": "code",
   "execution_count": 16,
   "metadata": {},
   "outputs": [],
   "source": [
    "X, Y = sklearn.utils.shuffle(X,Y, random_state=420)\n"
   ]
  },
  {
   "cell_type": "code",
   "execution_count": 17,
   "metadata": {},
   "outputs": [
    {
     "data": {
      "text/plain": [
       "array([0., 1., 1., 1., 1., 0., 1., 1., 0., 1., 0., 0., 1., 0., 1., 0., 1.,\n",
       "       1., 1., 0., 1., 1., 1., 0., 1., 1., 1., 0., 1., 0., 0., 1., 0., 1.,\n",
       "       1., 0., 0., 1., 1., 1., 1., 1., 1., 0., 1., 0., 1., 0., 0., 0., 1.,\n",
       "       0., 0., 1., 0., 0., 1., 1., 1., 0., 0., 1., 1., 1., 0., 0., 1., 0.,\n",
       "       0., 0., 1., 1., 1., 1., 1., 0., 1., 0., 0., 0., 1., 0., 1., 0., 1.,\n",
       "       1., 1., 0., 1., 1., 0., 1., 0., 1., 0., 0., 1., 1., 1., 1., 0., 1.,\n",
       "       0., 0., 1., 0., 0., 1., 1., 0., 0., 1., 1., 1., 0., 0., 0., 0., 0.,\n",
       "       0., 0., 1., 1., 1., 0., 1., 0., 0., 1., 1., 0., 1., 1., 0., 1., 0.,\n",
       "       1., 0., 0., 1., 1., 0., 1., 1., 0., 0., 1., 0., 0., 0., 1., 0., 1.,\n",
       "       1., 1., 0., 0., 0., 1., 0., 0., 1., 0., 0., 1., 0., 0., 0., 1., 1.,\n",
       "       0., 0., 0., 0., 1., 0., 1., 0., 1., 0., 1., 1., 0., 1., 0., 1., 0.,\n",
       "       0., 1., 0., 1., 0., 0., 0., 1., 1., 1., 0., 0., 1., 1., 0., 1., 0.,\n",
       "       0., 1., 1., 0., 0., 0., 0., 0., 0., 1., 0., 1., 0., 0., 1., 0., 1.,\n",
       "       1., 1., 0., 1., 0., 1., 1., 1., 1., 0., 0., 1., 1., 1., 1., 0., 0.,\n",
       "       0., 1., 0., 0., 1., 1., 1., 1., 0., 0., 1., 1., 0., 0., 1., 0., 0.,\n",
       "       1., 0., 0., 1., 1., 0., 0., 1., 1., 0., 0., 1., 0., 0., 1., 0., 0.,\n",
       "       0., 1., 1., 0., 0., 0., 0., 0., 0., 1., 0., 1., 1., 1., 0., 1., 1.,\n",
       "       1., 0., 1., 0., 1., 1., 1., 0., 1., 0., 0.])"
      ]
     },
     "execution_count": 17,
     "metadata": {},
     "output_type": "execute_result"
    }
   ],
   "source": [
    "Y"
   ]
  },
  {
   "cell_type": "code",
   "execution_count": 18,
   "metadata": {},
   "outputs": [
    {
     "data": {
      "text/plain": [
       "(1, 300)"
      ]
     },
     "execution_count": 18,
     "metadata": {},
     "output_type": "execute_result"
    }
   ],
   "source": [
    "np.shape([Y])"
   ]
  },
  {
   "cell_type": "code",
   "execution_count": 19,
   "metadata": {},
   "outputs": [
    {
     "name": "stdout",
     "output_type": "stream",
     "text": [
      "[[10.2 11.4  0. ]\n",
      " [18.   4.8  1. ]\n",
      " [ 6.   0.3  1. ]\n",
      " [ 6.8  1.2  1. ]\n",
      " [ 6.4  0.6  1. ]\n",
      " [11.6  8.1  0. ]\n",
      " [ 6.   0.6  1. ]\n",
      " [ 5.2  0.6  1. ]\n",
      " [11.2  9.   0. ]\n",
      " [16.4  3.9  1. ]\n",
      " [ 9.8  9.3  0. ]\n",
      " [10.8  9.   0. ]\n",
      " [19.6  5.4  1. ]\n",
      " [12.6  8.1  0. ]\n",
      " [ 5.6  0.9  1. ]\n",
      " [10.  10.2  0. ]\n",
      " [16.4  3.9  1. ]\n",
      " [13.2  3.   1. ]\n",
      " [ 5.6  0.3  1. ]\n",
      " [13.   9.6  0. ]\n",
      " [16.8  4.5  1. ]\n",
      " [20.4  5.4  1. ]\n",
      " [18.   4.5  1. ]\n",
      " [13.4  9.9  0. ]\n",
      " [ 5.2  0.6  1. ]\n",
      " [18.   4.5  1. ]\n",
      " [23.2  4.8  1. ]\n",
      " [12.4  8.7  0. ]\n",
      " [ 4.8  0.6  1. ]\n",
      " [10.2 10.5  0. ]\n",
      " [12.2  9.   0. ]\n",
      " [22.8  6.3  1. ]\n",
      " [ 9.   6.9  0. ]\n",
      " [ 5.6  0.6  1. ]\n",
      " [18.   4.5  1. ]\n",
      " [11.4  9.   0. ]\n",
      " [ 9.6 10.2  0. ]\n",
      " [20.   6.   1. ]\n",
      " [ 6.   1.2  1. ]\n",
      " [20.8  6.9  1. ]\n",
      " [20.4  4.5  1. ]\n",
      " [20.4  5.7  1. ]\n",
      " [24.4  7.5  1. ]\n",
      " [11.4 11.4  0. ]\n",
      " [14.   3.   1. ]\n",
      " [10.   9.9  0. ]\n",
      " [ 6.8  0.6  1. ]\n",
      " [11.   6.9  0. ]\n",
      " [12.6  9.9  0. ]\n",
      " [15.8 11.4  0. ]\n",
      " [18.4  4.2  1. ]\n",
      " [ 8.8  9.6  0. ]\n",
      " [11.   7.2  0. ]\n",
      " [15.6  3.6  1. ]\n",
      " [13.4  7.5  0. ]\n",
      " [10.   9.   0. ]\n",
      " [ 6.   0.6  1. ]\n",
      " [18.8  4.5  1. ]\n",
      " [ 5.6  0.6  1. ]\n",
      " [12.   6.6  0. ]\n",
      " [12.2  7.8  0. ]\n",
      " [23.6  6.9  1. ]\n",
      " [26.8  6.6  1. ]\n",
      " [24.4  6.9  1. ]\n",
      " [12.8  9.3  0. ]\n",
      " [11.4  8.4  0. ]\n",
      " [ 5.6  0.6  1. ]\n",
      " [12.4 10.2  0. ]\n",
      " [ 9.2 10.2  0. ]\n",
      " [14.8  8.4  0. ]\n",
      " [ 6.   1.2  1. ]\n",
      " [ 5.6  0.6  1. ]\n",
      " [23.6  6.3  1. ]\n",
      " [ 6.4  1.2  1. ]\n",
      " [ 5.6  0.9  1. ]\n",
      " [10.2 10.5  0. ]\n",
      " [20.8  6.   1. ]\n",
      " [15.4 11.4  0. ]\n",
      " [10.4 12.3  0. ]\n",
      " [11.6  8.4  0. ]\n",
      " [15.6  4.2  1. ]\n",
      " [11.4  7.5  0. ]\n",
      " [19.2  5.4  1. ]\n",
      " [10.2 11.4  0. ]\n",
      " [20.4  7.2  1. ]\n",
      " [22.4  4.2  1. ]\n",
      " [19.6  4.5  1. ]\n",
      " [11.2  8.7  0. ]\n",
      " [16.   3.9  1. ]\n",
      " [21.2  5.7  1. ]\n",
      " [11.2  7.5  0. ]\n",
      " [18.4  3.9  1. ]\n",
      " [10.2 10.2  0. ]\n",
      " [19.2  5.4  1. ]\n",
      " [13.   9.   0. ]\n",
      " [13.4  9.   0. ]\n",
      " [16.8  3.6  1. ]\n",
      " [ 7.6  0.6  1. ]\n",
      " [24.   7.5  1. ]\n",
      " [20.4  4.8  1. ]\n",
      " [10.8 10.2  0. ]\n",
      " [ 6.4  0.6  1. ]\n",
      " [11.  12.6  0. ]\n",
      " [12.6  6.9  0. ]\n",
      " [ 6.8  1.5  1. ]\n",
      " [15.4  9.   0. ]\n",
      " [13.8  9.3  0. ]\n",
      " [24.   5.4  1. ]\n",
      " [ 5.6  0.9  1. ]\n",
      " [11.   7.8  0. ]\n",
      " [13.8  9.6  0. ]\n",
      " [20.4  6.   1. ]\n",
      " [16.   3.6  1. ]\n",
      " [26.8  6.   1. ]\n",
      " [12.   6.6  0. ]\n",
      " [12.  10.2  0. ]\n",
      " [15.4  8.4  0. ]\n",
      " [ 9.8  9.   0. ]\n",
      " [12.2  9.   0. ]\n",
      " [10.   6.   0. ]\n",
      " [13.   9.   0. ]\n",
      " [ 6.   1.2  1. ]\n",
      " [21.6  6.3  1. ]\n",
      " [ 4.4  0.3  1. ]\n",
      " [11.6 12.   0. ]\n",
      " [ 6.   0.6  1. ]\n",
      " [ 9.6 10.2  0. ]\n",
      " [13.4  9.9  0. ]\n",
      " [19.6  4.5  1. ]\n",
      " [18.   4.5  1. ]\n",
      " [11.4  7.8  0. ]\n",
      " [ 6.   0.6  1. ]\n",
      " [20.4  5.7  1. ]\n",
      " [10.2 11.4  0. ]\n",
      " [20.   4.5  1. ]\n",
      " [ 9.2 10.8  0. ]\n",
      " [17.6  3.6  1. ]\n",
      " [ 9.4  9.6  0. ]\n",
      " [11.   7.5  0. ]\n",
      " [22.   6.3  1. ]\n",
      " [22.4  5.4  1. ]\n",
      " [12.2  8.4  0. ]\n",
      " [ 6.   0.6  1. ]\n",
      " [17.2  3.9  1. ]\n",
      " [10.  10.5  0. ]\n",
      " [11.8  9.6  0. ]\n",
      " [16.8  3.9  1. ]\n",
      " [ 8.6  9.   0. ]\n",
      " [13.   8.4  0. ]\n",
      " [10.4 10.5  0. ]\n",
      " [25.6  6.   1. ]\n",
      " [13.4  9.3  0. ]\n",
      " [18.   4.5  1. ]\n",
      " [20.   5.1  1. ]\n",
      " [23.2  5.4  1. ]\n",
      " [12.8  9.6  0. ]\n",
      " [ 9.8  7.2  0. ]\n",
      " [12.6  8.4  0. ]\n",
      " [18.   5.1  1. ]\n",
      " [14.4  9.6  0. ]\n",
      " [14.2  9.   0. ]\n",
      " [18.8  4.2  1. ]\n",
      " [13.8  9.3  0. ]\n",
      " [12.   9.   0. ]\n",
      " [ 6.   0.3  1. ]\n",
      " [11.6  8.1  0. ]\n",
      " [ 9.6  9.   0. ]\n",
      " [11.   7.2  0. ]\n",
      " [ 6.4  0.6  1. ]\n",
      " [16.4  3.   1. ]\n",
      " [13.6  9.   0. ]\n",
      " [13.4  9.   0. ]\n",
      " [ 8.8  9.   0. ]\n",
      " [14.4  9.   0. ]\n",
      " [17.2  3.9  1. ]\n",
      " [13.   9.   0. ]\n",
      " [22.4  6.6  1. ]\n",
      " [ 9.6  9.3  0. ]\n",
      " [19.6  6.   1. ]\n",
      " [11.6  8.1  0. ]\n",
      " [ 6.   0.6  1. ]\n",
      " [24.4  5.7  1. ]\n",
      " [14.4 10.8  0. ]\n",
      " [ 7.6  1.2  1. ]\n",
      " [10.   6.9  0. ]\n",
      " [22.4  7.2  1. ]\n",
      " [13.2  8.7  0. ]\n",
      " [10.  10.2  0. ]\n",
      " [16.   3.9  1. ]\n",
      " [10.8 11.1  0. ]\n",
      " [17.6  4.2  1. ]\n",
      " [13.4  9.3  0. ]\n",
      " [11.  10.5  0. ]\n",
      " [12.   8.1  0. ]\n",
      " [26.4  6.3  1. ]\n",
      " [15.6  3.3  1. ]\n",
      " [18.4  4.5  1. ]\n",
      " [ 9.8  9.3  0. ]\n",
      " [14.   9.6  0. ]\n",
      " [22.8  6.9  1. ]\n",
      " [14.   3.   1. ]\n",
      " [11.8  9.   0. ]\n",
      " [14.8  3.   1. ]\n",
      " [ 9.6  9.   0. ]\n",
      " [11.2  9.   0. ]\n",
      " [18.8  4.8  1. ]\n",
      " [20.4  6.9  1. ]\n",
      " [10.   9.6  0. ]\n",
      " [13.6  9.6  0. ]\n",
      " [12.8  8.4  0. ]\n",
      " [13.8  9.3  0. ]\n",
      " [11.2  8.1  0. ]\n",
      " [12.6  7.5  0. ]\n",
      " [19.6  5.4  1. ]\n",
      " [10.2 11.1  0. ]\n",
      " [18.8  4.2  1. ]\n",
      " [13.4  9.3  0. ]\n",
      " [ 8.8  8.7  0. ]\n",
      " [17.6  4.2  1. ]\n",
      " [10.  10.8  0. ]\n",
      " [ 5.2  1.2  1. ]\n",
      " [22.4  6.3  1. ]\n",
      " [19.2  5.4  1. ]\n",
      " [ 9.8  7.5  0. ]\n",
      " [ 5.6  0.6  1. ]\n",
      " [10.6 11.1  0. ]\n",
      " [ 5.2  0.9  1. ]\n",
      " [12.   3.3  1. ]\n",
      " [23.2  6.6  1. ]\n",
      " [ 6.   0.9  1. ]\n",
      " [12.4  6.6  0. ]\n",
      " [12.8  8.7  0. ]\n",
      " [13.2  3.   1. ]\n",
      " [27.6  6.9  1. ]\n",
      " [ 5.2  0.6  1. ]\n",
      " [25.2  5.4  1. ]\n",
      " [15.4  7.8  0. ]\n",
      " [10.  10.5  0. ]\n",
      " [11.8  9.   0. ]\n",
      " [ 6.8  0.9  1. ]\n",
      " [15.2  9.   0. ]\n",
      " [ 9.2  9.3  0. ]\n",
      " [17.6  3.9  1. ]\n",
      " [19.2  4.2  1. ]\n",
      " [ 6.   0.3  1. ]\n",
      " [ 4.   0.6  1. ]\n",
      " [11.4 13.2  0. ]\n",
      " [10.8 11.7  0. ]\n",
      " [22.8  7.5  1. ]\n",
      " [ 6.4  1.8  1. ]\n",
      " [12.   8.7  0. ]\n",
      " [ 9.4  9.6  0. ]\n",
      " [22.4  7.2  1. ]\n",
      " [11.4  8.4  0. ]\n",
      " [12.8  8.1  0. ]\n",
      " [21.6  6.9  1. ]\n",
      " [12.6  9.9  0. ]\n",
      " [11.6  7.8  0. ]\n",
      " [20.   5.7  1. ]\n",
      " [14.4  3.9  1. ]\n",
      " [10.2  7.5  0. ]\n",
      " [11.2  8.4  0. ]\n",
      " [ 6.4  0.6  1. ]\n",
      " [ 6.4  0.6  1. ]\n",
      " [11.4  8.7  0. ]\n",
      " [12.6  8.7  0. ]\n",
      " [18.8  3.6  1. ]\n",
      " [12.2  8.4  0. ]\n",
      " [13.2  9.   0. ]\n",
      " [21.2  6.9  1. ]\n",
      " [12.6 10.2  0. ]\n",
      " [10.2  9.9  0. ]\n",
      " [10.4 10.2  0. ]\n",
      " [ 5.2  0.9  1. ]\n",
      " [16.8  3.9  1. ]\n",
      " [10.8 11.7  0. ]\n",
      " [10.4  8.1  0. ]\n",
      " [14.6  8.7  0. ]\n",
      " [10.8 10.2  0. ]\n",
      " [13.6  8.4  0. ]\n",
      " [ 9.2  9.6  0. ]\n",
      " [ 5.6  0.6  1. ]\n",
      " [ 9.8  9.3  0. ]\n",
      " [16.   3.9  1. ]\n",
      " [18.   3.9  1. ]\n",
      " [ 6.   0.3  1. ]\n",
      " [12.8  8.4  0. ]\n",
      " [ 5.2  0.6  1. ]\n",
      " [16.   3.   1. ]\n",
      " [15.2  3.3  1. ]\n",
      " [11.6  8.1  0. ]\n",
      " [ 5.6  0.6  1. ]\n",
      " [12.4  8.4  0. ]\n",
      " [22.   5.4  1. ]\n",
      " [ 5.6  0.6  1. ]\n",
      " [ 4.8  0.6  1. ]\n",
      " [12.8  9.6  0. ]\n",
      " [22.   5.4  1. ]\n",
      " [12.2  8.7  0. ]\n",
      " [12.6  7.5  0. ]]\n"
     ]
    }
   ],
   "source": [
    "print(np.concatenate([X,np.transpose([Y])], axis=1))"
   ]
  },
  {
   "cell_type": "code",
   "execution_count": 20,
   "metadata": {},
   "outputs": [
    {
     "name": "stdout",
     "output_type": "stream",
     "text": [
      "(225, 2)\n",
      "(75, 2)\n",
      "(225,)\n",
      "(75,)\n"
     ]
    }
   ],
   "source": [
    "x_train, x_test, y_train, y_test = sklearn.model_selection.train_test_split(X,Y,test_size=0.25)\n",
    "print(np.shape(x_train))\n",
    "print(np.shape(x_test))\n",
    "print(np.shape(y_train))\n",
    "print(np.shape(y_test))"
   ]
  },
  {
   "cell_type": "code",
   "execution_count": 21,
   "metadata": {},
   "outputs": [],
   "source": [
    "model = svm.SVC(kernel=\"rbf\")\n"
   ]
  },
  {
   "cell_type": "code",
   "execution_count": 22,
   "metadata": {},
   "outputs": [
    {
     "data": {
      "text/plain": [
       "SVC()"
      ]
     },
     "execution_count": 22,
     "metadata": {},
     "output_type": "execute_result"
    }
   ],
   "source": [
    "model.fit(x_train, y_train.squeeze())"
   ]
  },
  {
   "cell_type": "code",
   "execution_count": 23,
   "metadata": {},
   "outputs": [
    {
     "data": {
      "text/plain": [
       "1.0"
      ]
     },
     "execution_count": 23,
     "metadata": {},
     "output_type": "execute_result"
    }
   ],
   "source": [
    "model.score(x_test, y_test)"
   ]
  },
  {
   "cell_type": "code",
   "execution_count": 26,
   "metadata": {},
   "outputs": [
    {
     "data": {
      "text/plain": [
       "array([1.])"
      ]
     },
     "execution_count": 26,
     "metadata": {},
     "output_type": "execute_result"
    }
   ],
   "source": [
    "model.predict([[5,2]])"
   ]
  }
 ],
 "metadata": {
  "kernelspec": {
   "display_name": "Python 3.10.5 64-bit",
   "language": "python",
   "name": "python3"
  },
  "language_info": {
   "codemirror_mode": {
    "name": "ipython",
    "version": 3
   },
   "file_extension": ".py",
   "mimetype": "text/x-python",
   "name": "python",
   "nbconvert_exporter": "python",
   "pygments_lexer": "ipython3",
   "version": "3.10.5"
  },
  "orig_nbformat": 4,
  "vscode": {
   "interpreter": {
    "hash": "26de051ba29f2982a8de78e945f0abaf191376122a1563185a90213a26c5da77"
   }
  }
 },
 "nbformat": 4,
 "nbformat_minor": 2
}
