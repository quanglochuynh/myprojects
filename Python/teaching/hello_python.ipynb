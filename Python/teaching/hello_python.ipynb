{
 "cells": [
  {
   "cell_type": "markdown",
   "metadata": {},
   "source": [
    "# Python cơ bản\n",
    "<p>1. Biến và Kiểu dữ liệu</p>\n",
    "<p>2. Câu lệnh điều kiện</p>\n",
    "<p>3. Vòng lặp</p>\n",
    "<p>4. Mảng (1 chiều, 2 chiều, 3 chiều, n-chiều)</p>\n",
    "<p>5. Chương trình con</p>\n",
    "<p>6. Lập trình hướng đối tượng</p>\n",
    "<p>7. Một số thuật toán kinh điển</p>"
   ]
  },
  {
   "cell_type": "markdown",
   "metadata": {},
   "source": [
    "# 1.1. Biến (Variable)\n",
    "<p>Định nghĩa: là một vùng nhớ nằm trong RAM của máy tính khi chạy chương trình</p>\n",
    "<p>- 1 biến có 2 thuộc tính quan trọng: tên biến và giá trị</p>"
   ]
  },
  {
   "cell_type": "code",
   "execution_count": null,
   "metadata": {},
   "outputs": [],
   "source": []
  },
  {
   "cell_type": "markdown",
   "metadata": {},
   "source": [
    "# 1.2. Kiểu dữ liệu\n",
    "### _Dữ liệu có rất nhiều dạng, 3 dạng phổ biến nhất là:_\n",
    "#### + __Số__ (số nguyên, số thực và số phức)\n",
    "#### + __Chữ__ (kí tự và chuỗi kí tự)\n",
    "#### + __Logic__ (boolean)"
   ]
  },
  {
   "cell_type": "code",
   "execution_count": null,
   "metadata": {},
   "outputs": [],
   "source": []
  },
  {
   "cell_type": "markdown",
   "metadata": {},
   "source": [
    "### _Các phép tính với dữ liệu_\n",
    "#### + __Số__: cộng, trừ, nhân, chia, chia lấy phần nguyên chia lấy phần dư, lũy thừa, căn, so sánh, etc\n",
    "#### + __Chữ__: gộp, tách, so sánh và hơn __100__ phép tính khác.\n",
    "#### Lưu ý: _2 biến có cùng kiểu dữ liệu thì mới thực hiện phép tính với nhau được_"
   ]
  },
  {
   "cell_type": "markdown",
   "metadata": {},
   "source": [
    "### _Các hàm chuyển đổi kiểu dữ liệu:_"
   ]
  },
  {
   "cell_type": "markdown",
   "metadata": {},
   "source": [
    "## Bài tập 1: \n",
    "##### Cho người dùng nhập 2 số a và b. Tính tổng a + b."
   ]
  },
  {
   "cell_type": "code",
   "execution_count": null,
   "metadata": {},
   "outputs": [],
   "source": [
    "a = input('a = ')\n",
    "b = input('b = ')\n",
    "print(a+b)"
   ]
  },
  {
   "cell_type": "code",
   "execution_count": null,
   "metadata": {},
   "outputs": [],
   "source": []
  },
  {
   "cell_type": "markdown",
   "metadata": {},
   "source": [
    "## Bài tập 2: \n",
    "#### Cho người dùng nhập 2 số thực n và m, \n",
    "#####  a) Tìm diện tích hình vuông có cạnh n\n",
    "#####  b) Tìm diện tích hình chữ nhật có cạnh m và n\n",
    "#####  c) Tìm diện tích hình tròn có __đường kính__ n\n",
    "#####  d) Tìm thể tích hình cầu có __đường kính__ m\n"
   ]
  },
  {
   "cell_type": "code",
   "execution_count": null,
   "metadata": {},
   "outputs": [],
   "source": []
  },
  {
   "cell_type": "markdown",
   "metadata": {},
   "source": [
    "# Mảng (array)\n",
    "### Định nghĩa: là một ma trận chứa nhiều biến __cùng kiểu dữ liệu__"
   ]
  },
  {
   "cell_type": "code",
   "execution_count": null,
   "metadata": {},
   "outputs": [],
   "source": []
  },
  {
   "cell_type": "markdown",
   "metadata": {},
   "source": []
  }
 ],
 "metadata": {
  "kernelspec": {
   "display_name": "Python 3.10.4 64-bit",
   "language": "python",
   "name": "python3"
  },
  "language_info": {
   "codemirror_mode": {
    "name": "ipython",
    "version": 3
   },
   "file_extension": ".py",
   "mimetype": "text/x-python",
   "name": "python",
   "nbconvert_exporter": "python",
   "pygments_lexer": "ipython3",
   "version": "3.10.4"
  },
  "orig_nbformat": 4,
  "vscode": {
   "interpreter": {
    "hash": "26de051ba29f2982a8de78e945f0abaf191376122a1563185a90213a26c5da77"
   }
  }
 },
 "nbformat": 4,
 "nbformat_minor": 2
}
