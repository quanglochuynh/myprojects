{
 "cells": [
  {
   "cell_type": "code",
   "execution_count": 12,
   "metadata": {},
   "outputs": [],
   "source": [
    "import numpy as np\n",
    "import math\n",
    "import matplotlib.pyplot as plt\n",
    "\n",
    "# minimize: x^2 + y^2 + z^4  \n",
    "#-100 < x,y,z <100\n",
    "\n",
    "w = 1\n",
    "w_damp = 0.995\n",
    "c1 = 1.5\n",
    "c2 = 1.5\n",
    "\n",
    "lower_bound = np.array([-100, -100, -100])\n",
    "upper_bound = np.array([100, 100, 100])\n",
    "\n",
    "vel_max = 0.1 * (upper_bound-lower_bound)\n",
    "\n",
    "class Particle:\n",
    "    def __init__(self):\n",
    "        self.dvar = np.random.random(3)*200 -100\n",
    "        self.velocity = np.random.random(3)*200 -100\n",
    "        self.personal_best = None\n",
    "        self.fitness = None\n",
    "        \n",
    "    def calc_fitness(self):\n",
    "        self.fitness = pow(self.dvar[0],2) + pow(self.dvar[1],2) + pow(self.dvar[2],2)"
   ]
  },
  {
   "cell_type": "code",
   "execution_count": 13,
   "metadata": {},
   "outputs": [
    {
     "name": "stdout",
     "output_type": "stream",
     "text": [
      "[-36.8193492   57.45382258  -1.75841964]\n",
      "4659.698245025028\n"
     ]
    }
   ],
   "source": [
    "p1 = Particle()\n",
    "p1.calc_fitness()\n",
    "print(p1.dvar)\n",
    "print(p1.fitness)"
   ]
  },
  {
   "cell_type": "code",
   "execution_count": 14,
   "metadata": {},
   "outputs": [
    {
     "name": "stdout",
     "output_type": "stream",
     "text": [
      "3557.3682958079703\n",
      "[-41.06061684  43.04190696   4.33454561]\n"
     ]
    }
   ],
   "source": [
    "pop_size = 20\n",
    "population = []\n",
    "best_fit = math.inf\n",
    "global_best = Particle()\n",
    "\n",
    "for i in range(pop_size):\n",
    "    population.append(Particle())\n",
    "    population[i].calc_fitness()\n",
    "    population[i].personal_best = Particle()\n",
    "    population[i].personal_best.calc_fitness()\n",
    "    if (population[i].fitness < best_fit):\n",
    "        best_fit = population[i].fitness\n",
    "        global_best = population[i]\n",
    "\n",
    "print(best_fit)\n",
    "print(global_best.dvar)"
   ]
  },
  {
   "cell_type": "code",
   "execution_count": 15,
   "metadata": {},
   "outputs": [
    {
     "name": "stdout",
     "output_type": "stream",
     "text": [
      "[ 18.63802127  21.78679852 -16.18027926]  -  1083.8418633876618\n",
      "[ 2.92445845  6.0732357  -0.46671645]  -  45.65447335636327\n",
      "[-7.17325933 -4.02448207  9.63100133]  -  160.40829192619955\n",
      "[-0.48236394  4.12998298 -0.5648536 ]  -  17.60849394074568\n",
      "[-1.3923982  -4.92714463  3.78133243]  -  40.51400187278892\n",
      "[-0.71629911 -0.26658627  0.00867686]  -  0.5842279478416491\n",
      "[0.59762957 0.3176724  0.30854999]  -  0.5532799580183979\n",
      "[-1.58574993 -1.01248697  2.16978459]  -  8.24769787610954\n",
      "[-0.40921157 -0.89518787  0.96566548]  -  1.9013252544871997\n",
      "[-0.42451055 -0.45077274  0.22816257]  -  0.4354634357159606\n",
      "[-0.02942925 -0.16370652 -0.08061822]  -  0.03416520252630195\n",
      "[-0.06459219 -0.02903928 -0.15042118]  -  0.027641960696501017\n",
      "[-0.02768695  0.01657407 -0.00299514]  -  0.0010502379182910802\n",
      "[-0.02878834  0.02477447  0.00680385]  -  0.0014888347464038429\n",
      "[-0.00325741  0.02228109  0.01208102]  -  0.0006530089161136434\n",
      "[0.00142383 0.01897706 0.00232001]  -  0.0003675383874663243\n",
      "[-0.00229574  0.00556341  0.00378956]  -  5.058267871882273e-05\n",
      "[ 0.00090639 -0.00035159  0.0014424 ]  -  3.025671413516031e-06\n",
      "[-4.05355735e-04 -3.94933745e-04  2.99202807e-05]  -  3.211811583262995e-07\n",
      "[ 8.04494526e-05 -2.02768901e-04 -9.21169092e-05]  -  5.6072866714496986e-08\n",
      "[ 7.64296690e-05 -1.98175270e-04 -1.08408555e-04]  -  5.686734686962546e-08\n",
      "[-9.20585377e-05 -1.87069643e-05 -1.32204565e-04]  -  2.6302771812401195e-08\n",
      "[-7.79966779e-06  4.73523846e-05 -3.55680168e-05]  -  3.5681669635927806e-09\n",
      "[-8.29853072e-06 -1.30049315e-05  2.28956280e-05]  -  7.622036357794919e-10\n",
      "[-1.02394746e-05  8.34440667e-06  6.08419902e-06]  -  2.1149344118657925e-10\n",
      "[ 3.35589891e-07  2.97685273e-06 -7.40058175e-06]  -  6.374288299495954e-11\n",
      "[7.58821186e-07 2.04306846e-06 2.74249179e-06]  -  1.2271199529746253e-11\n",
      "[-1.78723838e-07 -1.36437693e-06 -1.66181853e-06]  -  4.655107443500943e-12\n",
      "[-1.71788597e-07 -2.21841053e-07  8.39736551e-07]  -  7.838822507191544e-13\n",
      "[-3.36458794e-07  2.77504350e-08 -1.55580844e-07]  -  1.381800055924128e-13\n",
      "[-1.26837991e-07  1.65538144e-08 -1.35214819e-08]  -  1.6544735100622885e-14\n",
      "[-5.41237404e-08  7.78367690e-10 -1.06723766e-08]  -  3.0438847544227147e-15\n",
      "[-5.41808350e-08  1.76119277e-09 -1.77735823e-09]  -  2.9418236856814487e-15\n",
      "[-2.29673047e-08 -6.32181077e-09  4.73057432e-09]  -  5.898407094440626e-16\n",
      "[-3.66881734e-10  7.39630280e-10  4.81890349e-09]  -  2.390348597794074e-17\n",
      "[4.42356044e-10 4.77288338e-11 3.52602007e-09]  -  1.2630774449395383e-17\n",
      "[4.90331938e-10 2.44941279e-10 2.97805549e-09]  -  9.169236142053885e-18\n",
      "[6.51049298e-10 6.24165564e-10 2.10029919e-09]  -  5.224704538719029e-18\n",
      "[2.21022696e-10 4.15961677e-10 6.85294798e-10]  -  6.915041082089631e-19\n",
      "[-1.03610259e-10  3.74169352e-10  6.34319640e-11]  -  1.5476140401448e-19\n",
      "[3.99314665e-11 2.94899041e-10 1.55418989e-11]  -  8.880151680447529e-20\n",
      "[9.49945070e-13 1.89339016e-10 1.67587798e-11]  -  3.613102188550867e-20\n",
      "[-4.68106559e-11  1.49288813e-11 -4.75553047e-12]  -  2.436724073070209e-21\n",
      "[-4.12700099e-11 -3.66293322e-12  1.36842706e-11]  -  1.9038900590488537e-21\n",
      "[-3.57196187e-12 -1.05615945e-11 -2.04383997e-12]  -  1.2848347235137966e-22\n",
      "[-1.32600535e-12 -1.27772689e-12 -3.53736453e-12]  -  1.590382399955165e-23\n",
      "[-4.69273782e-13 -5.14699027e-13 -1.62006194e-12]  -  3.1097336722256768e-24\n",
      "[-2.93830685e-13 -5.51474348e-13  2.22100302e-13]  -  4.39788972104875e-25\n",
      "[-4.18380440e-13  1.45567740e-13  1.28661333e-13]  -  2.127858984127596e-25\n",
      "[-3.25727775e-13 -1.91787191e-13  9.96806364e-14]  -  1.5281713948277287e-25\n"
     ]
    }
   ],
   "source": [
    "best = []\n",
    "for it in range(50):\n",
    "    # update position\n",
    "    for i in range(pop_size):\n",
    "        # population[i].dvar += population[i].velocity\n",
    "        #update velocity\n",
    "        population[i].velocity = w*population[i].velocity + c1*np.random.rand(3)*(population[i].personal_best.dvar - population[i].dvar) + c2*np.random.rand(3)*(global_best.dvar-population[i].dvar)\n",
    "        #update velocity bound\n",
    "        population[i].velocity = np.maximum(population[i].velocity, -vel_max)\n",
    "        population[i].velocity = np.minimum(population[i].velocity, vel_max)\n",
    "        #update dvar\n",
    "        population[i].dvar += population[i].velocity\n",
    "        # update dvar bound\n",
    "        population[i].dvar = np.maximum(population[i].dvar, lower_bound)\n",
    "        population[i].dvar = np.minimum(population[i].dvar, upper_bound)      \n",
    "        # calc_fitness\n",
    "        population[i].calc_fitness()  \n",
    "        #update personal best\n",
    "        if population[i].fitness < population[i].personal_best.fitness:\n",
    "            population[i].personal_best = population[i]\n",
    "        # update global best\n",
    "        if population[i].fitness < global_best.fitness:\n",
    "            global_best = population[i]\n",
    "        #damp w\n",
    "        w = w * w_damp\n",
    "    print(global_best.dvar, \" - \", global_best.fitness)\n",
    "    best.append(global_best.fitness)\n"
   ]
  },
  {
   "cell_type": "code",
   "execution_count": 16,
   "metadata": {},
   "outputs": [
    {
     "data": {
      "text/plain": [
       "(0.0, 50.0)"
      ]
     },
     "execution_count": 16,
     "metadata": {},
     "output_type": "execute_result"
    },
    {
     "data": {
      "image/png": "[encoded data removed]",
      "text/plain": [
       "<Figure size 432x288 with 1 Axes>"
      ]
     },
     "metadata": {
      "needs_background": "light"
     },
     "output_type": "display_data"
    }
   ],
   "source": [
    "plt.plot(best)\n",
    "plt.xlim((0, 50))"
   ]
  },
  {
   "cell_type": "code",
   "execution_count": 17,
   "metadata": {},
   "outputs": [
    {
     "data": {
      "text/plain": [
       "array([3, 4, 5, 6, 7])"
      ]
     },
     "execution_count": 17,
     "metadata": {},
     "output_type": "execute_result"
    }
   ],
   "source": [
    "a = np.arange(0,5)\n",
    "b = np.arange(3,8)\n",
    "\n",
    "np.maximum(a,b)"
   ]
  }
 ],
 "metadata": {
  "kernelspec": {
   "display_name": "Python 3.10.4 ('base')",
   "language": "python",
   "name": "python3"
  },
  "language_info": {
   "codemirror_mode": {
    "name": "ipython",
    "version": 3
   },
   "file_extension": ".py",
   "mimetype": "text/x-python",
   "name": "python",
   "nbconvert_exporter": "python",
   "pygments_lexer": "ipython3",
   "version": "3.10.4"
  },
  "orig_nbformat": 4,
  "vscode": {
   "interpreter": {
    "hash": "3b392867d34c15fd81efc0e6e696e723f38c9c666be2e1ec9dc6fdb1e725f84e"
   }
  }
 },
 "nbformat": 4,
 "nbformat_minor": 2
}
