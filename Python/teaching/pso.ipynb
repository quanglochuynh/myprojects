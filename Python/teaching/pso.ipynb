{
 "cells": [
  {
   "cell_type": "code",
   "execution_count": 36,
   "metadata": {},
   "outputs": [],
   "source": [
    "import numpy as np\n",
    "import math\n",
    "import matplotlib.pyplot as plt\n",
    "\n",
    "# minimize: x^2 + y^2 + z^4  \n",
    "#-100 < x,y,z <100\n",
    "\n",
    "w = 1\n",
    "w_damp = 0.998\n",
    "c1 = 1.5\n",
    "c2 = 1.5\n",
    "\n",
    "lower_bound = np.array([-100, -100, -100])\n",
    "upper_bound = np.array([100, 100, 100])\n",
    "\n",
    "vel_max = 0.1 * (upper_bound-lower_bound)\n",
    "\n",
    "class Particle:\n",
    "    def __init__(self):\n",
    "        self.dvar = np.random.random(3)*200 -100\n",
    "        self.velocity = np.random.random(3)*200 -100\n",
    "        self.personal_best = None\n",
    "        self.fitness = None\n",
    "        \n",
    "    def calc_fitness(self):\n",
    "        self.fitness = pow(self.dvar[0],2) + pow(self.dvar[1],2) + pow(self.dvar[2],2)"
   ]
  },
  {
   "cell_type": "code",
   "execution_count": 37,
   "metadata": {},
   "outputs": [
    {
     "name": "stdout",
     "output_type": "stream",
     "text": [
      "[  9.85963465 -99.88094425  68.38779192]\n",
      "14750.305502223664\n"
     ]
    }
   ],
   "source": [
    "p1 = Particle()\n",
    "p1.calc_fitness()\n",
    "print(p1.dvar)\n",
    "print(p1.fitness)"
   ]
  },
  {
   "cell_type": "code",
   "execution_count": 38,
   "metadata": {},
   "outputs": [
    {
     "name": "stdout",
     "output_type": "stream",
     "text": [
      "662.1306768022205\n",
      "[ -4.17091614 -24.92034559  -4.86934401]\n"
     ]
    }
   ],
   "source": [
    "pop_size = 20\n",
    "population = []\n",
    "best_fit = math.inf\n",
    "global_best = Particle()\n",
    "\n",
    "for i in range(pop_size):\n",
    "    population.append(Particle())\n",
    "    population[i].calc_fitness()\n",
    "    population[i].personal_best = Particle()\n",
    "    population[i].personal_best.calc_fitness()\n",
    "    if (population[i].fitness < best_fit):\n",
    "        best_fit = population[i].fitness\n",
    "        global_best = population[i]\n",
    "\n",
    "print(best_fit)\n",
    "print(global_best.dvar)"
   ]
  },
  {
   "cell_type": "code",
   "execution_count": 39,
   "metadata": {},
   "outputs": [
    {
     "name": "stdout",
     "output_type": "stream",
     "text": [
      "[ 15.82908386 -36.5484808   -4.30760649]  -  1604.9068181665032\n",
      "[-10.27814633  -3.6452743   24.98467574]  -  743.1623382526876\n",
      "[-4.44523195 -1.1570641  12.11453551]  -  167.86085491781452\n",
      "[-15.78883921   7.93085414  -5.61798869]  -  343.7476879838748\n",
      "[  0.84681153  -8.70479661 -11.85854838]  -  217.1157433803246\n",
      "[-9.50903756 -5.27876656  4.99642029]  -  143.25138736204767\n",
      "[ 1.68614862  5.41645576 -6.87071043]  -  79.38775208373329\n",
      "[ 4.71975076 -1.56920261 -6.39919218]  -  65.68810470136246\n",
      "[-3.76050762  4.70476464  3.51361727]  -  48.62173423960687\n",
      "[-5.0727029  -3.63295647 -2.75115278]  -  46.499529070011825\n",
      "[ 3.30098472 -0.4635265  -3.41286345]  -  22.758993871342277\n",
      "[ 7.24860544 -1.75903611 -2.5011913 ]  -  61.892446847069685\n",
      "[ 7.39116936 10.3655052  -5.28225644]  -  189.9753155751842\n",
      "[-3.5432635  -1.90035064 -4.16921724]  -  33.54842118793181\n",
      "[ 0.18126703 -1.67647747  0.77567665]  -  3.4451087029127723\n",
      "[ 1.73125622  1.17917402 -0.8703906 ]  -  5.145279293928283\n",
      "[ 1.00975829 -1.66763473 -1.57265535]  -  6.273862250402624\n",
      "[-2.3616024  -0.60208835 -0.70019265]  -  6.42994603358512\n",
      "[ 0.39342357  0.75384879 -1.11519718]  -  1.9667348541010694\n",
      "[-0.69390424  0.27176475 -0.4744044 ]  -  0.7804187138487404\n",
      "[-1.17240477  0.05961395 -0.19241062]  -  1.4151086149943857\n",
      "[-1.14592681  0.10836671 -0.03108668]  -  1.3258579896006684\n",
      "[-0.18735445  0.58893525 -0.13967391]  -  0.4014552207661454\n",
      "[ 0.11372515  0.16738548 -0.0393679 ]  -  0.04250114044888527\n",
      "[ 0.26817149 -0.10074297 -0.24233405]  -  0.14079088803859174\n",
      "[ 0.31853607 -0.04360101 -0.32241274]  -  0.20731624765863033\n",
      "[-0.02392604 -0.08896633 -0.32383447]  -  0.11335622764071812\n",
      "[-0.22648497 -0.20333134 -0.21570335]  -  0.13916700671122367\n",
      "[-0.33893957 -0.16780269 -0.17776677]  -  0.17463880010561103\n",
      "[-0.32057658 -0.06639774  0.15988602]  -  0.13274154009861147\n",
      "[-0.2832441   0.13872963 -0.10855514]  -  0.11125734753318454\n",
      "[-0.08885748  0.16356724 -0.01284472]  -  0.03481487979746967\n",
      "[-0.0541257   0.07082396 -0.09835231]  -  0.01761880122553721\n",
      "[-0.03329169  0.10840369 -0.12836226]  -  0.029336565546243063\n",
      "[ 0.01383585  0.00616412 -0.07248357]  -  0.005483295563112545\n",
      "[0.00217222 0.0016233  0.01539227]  -  0.00024427551457634645\n",
      "[ 0.00177912 -0.01085453  0.00990975]  -  0.0002191891289402907\n",
      "[-0.00279681 -0.00827595  0.00980561]  -  0.00017246341405120942\n",
      "[-0.00282502  0.00207292 -0.00267631]  -  1.9440363314465342e-05\n",
      "[-0.00238545  0.00022458 -0.00167484]  -  8.545875900294485e-06\n",
      "[-0.00256091  0.00150314 -0.00206677]  -  1.3089195737722979e-05\n",
      "[-0.00220677  0.00169099  0.00047154]  -  7.951607285245166e-06\n",
      "[-0.00149983  0.00052289 -0.0006164 ]  -  2.9028625420390288e-06\n",
      "[-0.00094295 -0.00076974  0.00011638]  -  1.495202237300086e-06\n",
      "[-3.90460980e-05  1.79052325e-04  2.40054213e-04]  -  9.121035824967186e-08\n",
      "[0.0002477  0.00014361 0.00030985]  -  1.7798819086377253e-07\n",
      "[7.07277440e-05 1.88976651e-05 9.33444542e-05]  -  1.4072722648830014e-08\n",
      "[ 4.03312358e-05 -3.28385101e-05  7.03293845e-05]  -  7.651198646223637e-09\n",
      "[ 2.41228674e-05 -1.35778314e-05  4.29890694e-05]  -  2.6143303203240176e-09\n",
      "[1.52089767e-06 1.16271325e-05 2.57456573e-06]  -  1.441317294733189e-10\n"
     ]
    }
   ],
   "source": [
    "best = []\n",
    "for it in range(50):\n",
    "    # update position\n",
    "    for i in range(pop_size):\n",
    "        # population[i].dvar += population[i].velocity\n",
    "        #update velocity\n",
    "        population[i].velocity = w*population[i].velocity + c1*np.random.rand(3)*(population[i].personal_best.dvar - population[i].dvar) + c2*np.random.rand(3)*(global_best.dvar-population[i].dvar)\n",
    "        #update velocity bound\n",
    "        population[i].velocity = np.maximum(population[i].velocity, -vel_max)\n",
    "        population[i].velocity = np.minimum(population[i].velocity, vel_max)\n",
    "        #update dvar\n",
    "        population[i].dvar += population[i].velocity\n",
    "        # update dvar bound\n",
    "        population[i].dvar = np.maximum(population[i].dvar, lower_bound)\n",
    "        population[i].dvar = np.minimum(population[i].dvar, upper_bound)      \n",
    "        # calc_fitness\n",
    "        population[i].calc_fitness()  \n",
    "        #update personal best\n",
    "        if population[i].fitness < population[i].personal_best.fitness:\n",
    "            population[i].personal_best = population[i]\n",
    "        # update global best\n",
    "        if population[i].fitness < global_best.fitness:\n",
    "            global_best = population[i]\n",
    "        #damp w\n",
    "        w = w * w_damp\n",
    "    print(global_best.dvar, \" - \", global_best.fitness)\n",
    "    best.append(global_best.fitness)\n"
   ]
  },
  {
   "cell_type": "code",
   "execution_count": 40,
   "metadata": {},
   "outputs": [
    {
     "data": {
      "text/plain": [
       "(0.0, 50.0)"
      ]
     },
     "execution_count": 40,
     "metadata": {},
     "output_type": "execute_result"
    },
    {
     "data": {
      "image/png": "[encoded data removed]",
      "text/plain": [
       "<Figure size 432x288 with 1 Axes>"
      ]
     },
     "metadata": {
      "needs_background": "light"
     },
     "output_type": "display_data"
    }
   ],
   "source": [
    "plt.plot(best)\n",
    "plt.xlim((0, 50))"
   ]
  },
  {
   "cell_type": "code",
   "execution_count": 41,
   "metadata": {},
   "outputs": [
    {
     "data": {
      "text/plain": [
       "array([3, 4, 5, 6, 7])"
      ]
     },
     "execution_count": 41,
     "metadata": {},
     "output_type": "execute_result"
    }
   ],
   "source": [
    "a = np.arange(0,5)\n",
    "b = np.arange(3,8)\n",
    "\n",
    "np.maximum(a,b)"
   ]
  }
 ],
 "metadata": {
  "kernelspec": {
   "display_name": "Python 3.10.5 64-bit",
   "language": "python",
   "name": "python3"
  },
  "language_info": {
   "codemirror_mode": {
    "name": "ipython",
    "version": 3
   },
   "file_extension": ".py",
   "mimetype": "text/x-python",
   "name": "python",
   "nbconvert_exporter": "python",
   "pygments_lexer": "ipython3",
   "version": "3.10.5"
  },
  "orig_nbformat": 4,
  "vscode": {
   "interpreter": {
    "hash": "26de051ba29f2982a8de78e945f0abaf191376122a1563185a90213a26c5da77"
   }
  }
 },
 "nbformat": 4,
 "nbformat_minor": 2
}
