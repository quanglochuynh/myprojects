{
 "cells": [
  {
   "cell_type": "code",
   "execution_count": 1,
   "metadata": {},
   "outputs": [],
   "source": [
    "import requests\n",
    "from bs4 import BeautifulSoup"
   ]
  },
  {
   "cell_type": "code",
   "execution_count": 2,
   "metadata": {},
   "outputs": [
    {
     "name": "stdout",
     "output_type": "stream",
     "text": [
      "200\n"
     ]
    }
   ],
   "source": [
    "# Lat-Lon of New York\n",
    "URL = \"https://www.pvoil.com.vn/truyen-thong/tin-gia-xang-dau\"\n",
    "resp = requests.get(URL)\n",
    "print(resp.status_code)\n",
    "# print(resp.text)"
   ]
  },
  {
   "cell_type": "code",
   "execution_count": 12,
   "metadata": {},
   "outputs": [],
   "source": [
    "soup = BeautifulSoup(resp.text, \"lxml\")\n",
    "elements = soup.select('[class^=\"table\"]')\n",
    "# for i in range(len(elements)):\n",
    "#     print(elements[i].text)\n",
    "str = elements[0].text\n",
    "# print(str)"
   ]
  },
  {
   "cell_type": "code",
   "execution_count": 13,
   "metadata": {},
   "outputs": [
    {
     "name": "stdout",
     "output_type": "stream",
     "text": [
      "\n",
      "32.870\n",
      "\n",
      "31.300\n",
      "\n",
      "30.010\n"
     ]
    }
   ],
   "source": [
    "id = str.find(\"Xăng RON 95-III\") + 15\n",
    "a95_3 = str[id:id+7]\n",
    "print(a95_3)\n",
    "\n",
    "id = str.find(\"Xăng E5 RON 92-II\") + 17\n",
    "a92_2 = str[id:id+7]\n",
    "print(a92_2)\n",
    "\n",
    "id = str.find(\"Dầu DO 0,05S-II\") + 15\n",
    "do_2 = str[id:id+7]\n",
    "print(do_2)"
   ]
  }
 ],
 "metadata": {
  "kernelspec": {
   "display_name": "Python 3.10.4 ('base')",
   "language": "python",
   "name": "python3"
  },
  "language_info": {
   "codemirror_mode": {
    "name": "ipython",
    "version": 3
   },
   "file_extension": ".py",
   "mimetype": "text/x-python",
   "name": "python",
   "nbconvert_exporter": "python",
   "pygments_lexer": "ipython3",
   "version": "3.10.4"
  },
  "orig_nbformat": 4,
  "vscode": {
   "interpreter": {
    "hash": "3b392867d34c15fd81efc0e6e696e723f38c9c666be2e1ec9dc6fdb1e725f84e"
   }
  }
 },
 "nbformat": 4,
 "nbformat_minor": 2
}
