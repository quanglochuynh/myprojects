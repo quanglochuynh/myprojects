{
 "cells": [
  {
   "cell_type": "code",
   "execution_count": 1,
   "metadata": {},
   "outputs": [],
   "source": [
    "import requests\n",
    "from bs4 import BeautifulSoup"
   ]
  },
  {
   "cell_type": "code",
   "execution_count": 3,
   "metadata": {},
   "outputs": [
    {
     "name": "stdout",
     "output_type": "stream",
     "text": [
      "200\n"
     ]
    }
   ],
   "source": [
    "URL = \"https://nha.chotot.com/thue-phong-tro-quan-7-tp-ho-chi-minh\"\n",
    "resp = requests.get(URL)\n",
    "print(resp.status_code)\n",
    "# print(resp.text)"
   ]
  },
  {
   "cell_type": "code",
   "execution_count": 6,
   "metadata": {},
   "outputs": [
    {
     "name": "stdout",
     "output_type": "stream",
     "text": [
      "Cho Thuê Phòng Trọ TPHCMCho Thuê Phòng Trọ Gần Đại Học Tôn Đức ThắngThuê Phòng Trọ Gần Đại Học Tài Chính - MarketingCho Thuê Phòng Trọ Gần Trường Đại Học RmitPhòng Trọ Gần Khu Chế Xuất Tân ThuậnPhòng trọ giá rẻ Quận 7Cho Thuê Phòng Trọ 1 Người Ở Quận 7, TPHCMPhòng trọ Quận 7 giá 2 triệuPhòng trọ Quận 7 giá 1 triệuPhòng trọ Quận 7 giá 1,5 triệu12Homestay biệt thự 1,6 tr/người Bao gồm tất cả phí40 m²1,6 triệu/tháng9Phòng trọ Quận7 rẻ đẹp,mát mẻ,cách PMH 10p24 m²3,3 triệu/tháng8#36. Ở ghép giường tầng quận 7 giá rẻ25 m²700.000 đ/tháng8Homestay Nguyễn Thị Thập 1,5 triệu/người trọn gói40 m²1,5 triệu/tháng10Ở ghép quận 7 gần Đại Học Tôn Đức Thắng,ngay Lotte20 m²700.000 đ/tháng7Cho Thuê Phòng Trọ Ở Ghép Quận 7 Giá Rẻ20 m²700.000 đ/tháng7Phòng trọ Q7 tự do nấu ăn giờ giấc18 m²2,5 triệu/tháng6Cho thuê Phòng trọ ngay KCX Tan Thuận Q730 m²3 triệu/tháng5Phòng Q7,  giá bình dân, sạch sẽ, thoáng mát16 m²2 triệu/tháng10PHÒNG TRỌ Ở GHÉP GẦN KCX TÂN THUẬN Q7-CHỈ 1,3tr25 m²1,3 triệu/tháng9CHDV 30m2 khu cư xá ngân hàng30 m²3,8 triệu/tháng3Phòng trọ full nội thất gần ĐH Tôn Đức Thắng30 m²3,5 triệu/tháng6Căn hộ cao cấp30 m²5,5 triệu/tháng11Cho thuê ở ghép khu cao cấp Him Lam q740 m²1,6 triệu/tháng2CHO THUÊ PHÒNG TRỌ GIÁ RẺ TẠI QUẬN 715 m²3,5 triệu/tháng6DUPLEX giá rẻ tại KCX Q728 m²3,6 triệu/tháng4CHDV ban công khu CXNH Quận 725 m²3,8 triệu/tháng9PHÒNG CAO CẤP ĐẸP ĐẦY ĐỦ NỘI THẤT, KHU BIỆT THỰ28 m²3 triệu/tháng4Cho thuê phòng trọ q716 m²2,5 triệu/tháng9Phòng trọ có gác Thoáng mát đường Lâm Văn Bền20 m²3,6 triệu/tháng8PHÒNG CỰC RẺ ĐỐI DIỆN VINCOM TRẦN TRỌNG CUNG30 m²3,5 triệu/tháng5Cho thuê phòng trọ có gác cửa sổ trung tâm Quận 720 m²3,5 triệu/tháng12phòng chung cư era đức khải.Q7 giá từ 1,5tr-3,5tr161 m²1,5 triệu/tháng12Cho thuê phòng trọ bình dân24 m²2,9 triệu/tháng5phòng sach sẽ. an ninh. đường ko ngập nước.15 m²1,9 triệu/tháng\n"
     ]
    }
   ],
   "source": [
    "soup = BeautifulSoup(resp.text, \"lxml\")\n",
    "elements = soup.select('[class^=\"no-padding col-md-8 ct-col-8\"]')\n",
    "for i in range(len(elements)):\n",
    "    print(elements[i].text)\n",
    "# str = elements[0].text"
   ]
  },
  {
   "cell_type": "code",
   "execution_count": 5,
   "metadata": {},
   "outputs": [
    {
     "name": "stdout",
     "output_type": "stream",
     "text": [
      "Cho Thuê Phòng Trọ TPHCMCho Thuê Phòng Trọ Gần Đại Học Tôn Đức ThắngThuê Phòng Trọ Gần Đại Học Tài Chính - MarketingCho Thuê Phòng Trọ Gần Trường Đại Học RmitPhòng Trọ Gần Khu Chế Xuất Tân ThuậnPhòng trọ giá rẻ Quận 7Cho Thuê Phòng Trọ 1 Người Ở Quận 7, TPHCMPhòng trọ Quận 7 giá 2 triệuPhòng trọ Quận 7 giá 1 triệuPhòng trọ Quận 7 giá 1,5 triệu12Homestay biệt thự 1,6 tr/người Bao gồm tất cả phí40 m²1,6 triệu/tháng9Phòng trọ Quận7 rẻ đẹp,mát mẻ,cách PMH 10p24 m²3,3 triệu/tháng8#36. Ở ghép giường tầng quận 7 giá rẻ25 m²700.000 đ/tháng8Homestay Nguyễn Thị Thập 1,5 triệu/người trọn gói40 m²1,5 triệu/tháng10Ở ghép quận 7 gần Đại Học Tôn Đức Thắng,ngay Lotte20 m²700.000 đ/tháng7Cho Thuê Phòng Trọ Ở Ghép Quận 7 Giá Rẻ20 m²700.000 đ/tháng7Phòng trọ Q7 tự do nấu ăn giờ giấc18 m²2,5 triệu/tháng6Cho thuê Phòng trọ ngay KCX Tan Thuận Q730 m²3 triệu/tháng5Phòng Q7,  giá bình dân, sạch sẽ, thoáng mát16 m²2 triệu/tháng10PHÒNG TRỌ Ở GHÉP GẦN KCX TÂN THUẬN Q7-CHỈ 1,3tr25 m²1,3 triệu/tháng9CHDV 30m2 khu cư xá ngân hàng30 m²3,8 triệu/tháng3Phòng trọ full nội thất gần ĐH Tôn Đức Thắng30 m²3,5 triệu/tháng6Căn hộ cao cấp30 m²5,5 triệu/tháng11Cho thuê ở ghép khu cao cấp Him Lam q740 m²1,6 triệu/tháng2CHO THUÊ PHÒNG TRỌ GIÁ RẺ TẠI QUẬN 715 m²3,5 triệu/tháng6DUPLEX giá rẻ tại KCX Q728 m²3,6 triệu/tháng4CHDV ban công khu CXNH Quận 725 m²3,8 triệu/tháng9PHÒNG CAO CẤP ĐẸP ĐẦY ĐỦ NỘI THẤT, KHU BIỆT THỰ28 m²3 triệu/tháng4Cho thuê phòng trọ q716 m²2,5 triệu/tháng9Phòng trọ có gác Thoáng mát đường Lâm Văn Bền20 m²3,6 triệu/tháng8PHÒNG CỰC RẺ ĐỐI DIỆN VINCOM TRẦN TRỌNG CUNG30 m²3,5 triệu/tháng5Cho thuê phòng trọ có gác cửa sổ trung tâm Quận 720 m²3,5 triệu/tháng12phòng chung cư era đức khải.Q7 giá từ 1,5tr-3,5tr161 m²1,5 triệu/tháng12Cho thuê phòng trọ bình dân24 m²2,9 triệu/tháng5phòng sach sẽ. an ninh. đường ko ngập nước.15 m²1,9 triệu/tháng\n"
     ]
    }
   ],
   "source": [
    "print(str)"
   ]
  }
 ],
 "metadata": {
  "kernelspec": {
   "display_name": "Python 3.10.5 64-bit",
   "language": "python",
   "name": "python3"
  },
  "language_info": {
   "codemirror_mode": {
    "name": "ipython",
    "version": 3
   },
   "file_extension": ".py",
   "mimetype": "text/x-python",
   "name": "python",
   "nbconvert_exporter": "python",
   "pygments_lexer": "ipython3",
   "version": "3.10.5"
  },
  "orig_nbformat": 4,
  "vscode": {
   "interpreter": {
    "hash": "26de051ba29f2982a8de78e945f0abaf191376122a1563185a90213a26c5da77"
   }
  }
 },
 "nbformat": 4,
 "nbformat_minor": 2
}
