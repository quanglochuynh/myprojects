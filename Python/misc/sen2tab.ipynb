{
 "cells": [
  {
   "cell_type": "code",
   "execution_count": 1,
   "metadata": {},
   "outputs": [],
   "source": [
    "import numpy as np\n",
    "import pandas as pd"
   ]
  },
  {
   "cell_type": "code",
   "execution_count": 2,
   "metadata": {},
   "outputs": [],
   "source": [
    "str_array = []\n",
    "str_array.append(\"Số booking hãng tàu - Số booking khách hàng - Hãng tàu - Đại lý - Khách hàng HT - Ngày hết hạn hạ - Số ngày được Free - Số lượng cont in từng loại - Số Cont đã vào - Tổng số lượng - Số Cont còn\")\n",
    "str_array.append(\"EIRNo - EIR EDEPOT - Trạng thái thu tiền Đơn hàng eDepot - Hãng tàu - Đại lý - Số Cont - Loại cont - Hàng hóa - TLg cont - Tổng TLg - Số xe - CMND/ Số căn cước - Ghi chú chỉ định - Vị trí ngoài - Thời điểm vào - Phụ phí hạ tầng - Nâng hạ - Phí phụ thu rác - Phân loại Cont - Phân loại đóng hàng - Hình tài xế - Người tạo - Trái tuyến - Đã giám định - Đã ký tên phiếu e-EIR - Hoàn thành phiếu EIR - In EIR - In Hóa đơn - Đã In Vé Cổng (BV) - Đã in vé cổng (KH) - Đã in vé cổng (NB) - Hủy eir\")\n",
    "str_array.append(\"Mã - EIRNo - EIR EDEPOT - Booking Hãng tàu - Booking Khách hàng - Hãng tàu - ContID - Loại container - Phân loại đóng hàng - SealNo - Số xe - CMND/ Số căn cước - Phụ phí hạ tầng - Vé Nâng Hạ - Ghi chú - Phân loại - Remark - Xe nâng - Nhân viên LXN - Tier - Người tạo - Thời điểm mở phiếu - Thời điểm in EIR - Hình tài xế - Trái tuyến - Đã ký tên phiếu EIR - Hoàn thành phiếu EIR - Đã in EIR - Đã in HĐ - Đã in vé cổng (BV) - Đã in vé cổng (KH) - Đã in vé cổng (NB) - Hủy EIR\")\n",
    "str_array.append(\"ContID - EIRNo - ContTareWeight - ContWeight - ContYear - ContTypeSizeID - HangTauID - PhanLoaiID - Phân loại đóng hàng - SoNgayLuuBai - Ghi chú - DateIn - Ngày sửa chữa - Ngày báo giá - Ngày aprroved sửa chữa - Cảng chỉ định - Remark báo giá - Booking chỉ định - Ghi chú chỉ định - Remark - TrangthaiInstock\")\n",
    "str_array.append(\"ContID - ContTareWeight - ContWeight - ContYear - ContTypeSizeID - HangTauID - Booking chỉ định - Cảng chỉ định - Block - Area - Bay - PhanLoaiID - Phân loại đóng hàng - SoNgayLuuBai - Ngày hoàn thành PSC - Ngày báo giá - Mô tả hư hỏng - Mô tả - Description - DateIn - GhiChuStock - Ghi chú chỉ định - TrangthaiInstock - Ghi chú GateIn - Remark - BookingChiDinh\")\n",
    "str_array.append(\"Phiếu giám định - Số phiếu thu - CMND/ Số căn cước - Người nộp tiền - Số điện thoại - Khách hàng - Số tài khoản - Tên chi nhánh Ngân hàng - Lý do nộp - Ghi chú - Số Cont - Kèm theo - Nội dung thu - Hãng tàu - Số lượng cont - Loại cont - Số tiền - DaIn - Đã trả cược cho KH - Tiền nâng hạ đã trừ - Tiền còn lại - Người tạo - Ngày giờ tạo - Xác nhận đã thu tiền - Người xác nhận thu tiền - File đính kèm\")\n",
    "str_array.append(\"Ngày - Ca trực - Xe nâng - Tên LXN - Dầu đầu ca - Dầu châm thêm - Dầu cuối ca - Dầu tiêu thụ - Giờ đầu ca - Giờ cuối ca - Giờ thực tế xe hoạt động - Thời gian hoạt động xe nâng - Thời gian/Ca - Hệ số K - Ghi chú sửa chữa - Remark - Depot - Hệ số PC cho từng xe\")\n",
    "str_array.append(\"Hãng tàu - Tiếp đầu ngữ seal - Chiều dài ký tự seal - Active\")\n",
    "str_array.append(\"EIRNo - ContID - BookingHangtauNo - BookingKhachhangNo - ChuKhaiThachID - HangTauID - BookingExpdatetime - BookingDateTime - BookingType - Holdingtime - NgayHetHan - Shipper_CosigneeID - TauID - DiemDenID - BookingQuantity - DetailRequest - ChuyenID - GhiChu - ContTareWeight - ContWeight - ContYear - ContTypeSizeID - PhanLoaiID - TrangThaiContainer\")\n",
    "str_array.append(\"ContID - ContTareWeight - ContWeight - ContYear - ContTypeSizeID - HangTauID - Booking chỉ định - Cảng chỉ định - Block - Area - Bay - PhanLoaiID - Phân loại đóng hàng - SoNgayLuuBai - Ngày hoàn thành PSC - Ngày báo giá - Mô tả hư hỏng - Mô tả - Description - DateIn - GhiChuStock - Ghi chú chỉ định - TrangthaiInstock - Ghi chú GateIn - Remark - BookingChiDinh\")\n",
    "str_array.append(\"ChiDinhContlist - BookingID - BookingHangtauNo - BookingKhachhangNo - ChuKhaiThachID - HangTauID - ContID - EIRNo - Area - Block - Bay - Row - Tier - TrangthaiInstock - Vitringoai - PhanLoaiID - SoNgayLuuBai - MotaSuaChung - DateIn - BookingExpdatetime - BookingDateTime - GiaytoKemTheo - PhuongThucThanhToan - HinhThucThanhToan - BookingType - Holdingtime - NgayHetHan - Shipper_CosigneeID - TauID\")\n",
    "str_array.append(\"Dạng bảng và có các cột sau:  LoiAPIMSK - Phiếu EIR - EIR eDepot - Hãng tàu - Loại container - Số container - isSendAPIMSK - dateSendAPIMSK - Số xe - Tài xế - Phân loại - Phân loại đóng hàng - Hôi mùi - Quét - Rửa nước - Rửa hóa chất - Nhổ đinh - Gỡ tem nguy hiểm - Sàn thấm dầu - Khử mùi - Máy thổi - MayThoi - Ghi chú cấp cont - TG kết thúc GĐ - Ghi chú sửa chữa - NV Giám định - TotalAmount - Hoàn thành giám định - MotaHuHong - Thời điểm kết thúc - Thời điểm tạo\")\n",
    "str_array.append(\"Phiếu EIR - Số container - Loại container - Hãng tàu - Hãng tàu MMNR - Hoàn thành giám định - Không PTI - Số lần PTI - Thời gian bắt đầu PTI - Thời gian kết thúc PTI - Hoàn thành PTI - Nhân viên PTI\")\n",
    "str_array.append(\"Phiếu EIR - Container - HangTauID - ContTypeSizeID - Số xe - Quét - Rửa nước - Nhổ đinh - Rửa hóa chất - Gỡ tem - Sàn thấm dầu - Hôi mùi - Khử mùi - Máy thổi - NV vệ sinh - Thời điểm vào - Có vệ sinh - Hoàn thành vệ sinh\")\n",
    "str_array.append(\"BookingID - GateOutEIRNo - Hãng tàu - Số container - Loại container - Hàng hóa - TrangthaiInstock - Phân loại In stock - Số xe - Tài xế - Phân loại - Thời điểm vào - NV Giám định - Kết quả giảm định - Hoàn thành giám định\")\n",
    "str_array.append(\"PhieuGiamDinhID - BaogiaID - HangTauID - ContID - ContTypeSizeID - ContYear - Phân loại - Mô tả hư hỏng - Người tạo báo giá - Ngaybaogia - Ghi chú giám định - TotalAmount - Internal Labor Hour - FixingHours - PhanLoaiGiamDinh - TrangThai - Thời điểm vào - Ngày hoàn thành báo giá - TinhTrangBaoGia\")\n",
    "str_array.append(\"ID - HangTauID - ContID - ContTypeSizeID - ContYear - Phân loại trước sửa - Mô tả hư hỏng - Người nhập - Nhân viên Sửa chữa - NgayGioBatDau - NgayGioKetThuc - Ngày hoàn thành SC - Phân loại sau sửa - LyDo - Ngày vào bãi - Tình trạng GateIn - Số ngày chờ sửa - Tình trạng báo giá - Đã In Phiếu SC - HoanThanh - Đã nhập phiếu - Hoàn thành sửa vỏ - Hoàn thành sửa máy\")\n",
    "str_array.append(\"HangTauID - ContID - ContTypeSizeID - ContYear - Mô tả hư hỏng - Phân loại trước sửa - Ngày GateIn - NgayGioBatDau - NgayGioKetThuc - Ngày hoàn thành SC - Phân loại sau sửa - Internal Labor Hour - FixingHours - TotalAmount - Tình trạng hoàn thành - Xác nhận phân loại - HoanThanhXacNhan - Thời gian xác nhận báo giá - Thời gian xác nhận sửa chữa - User xác nhận SC\")\n",
    "str_array.append(\"BaogiaID - DepotID - OPT - ContID - Ngày báo giá - Hoàn thành báo giá - Content EDI Sửa chữa - TotalAmount - Không gửi EDI - Đã gửi EDI - Thời điểm gửi EDI\")\n",
    "str_array.append(\"Tên bill - OPT - Method - Date - Kỳ tài chính - Size - PIC - Included VAT - Bill To - Excluded VAT - CFM - Vol - Currency - Vat Rate - Amount - Total - Phương pháp chốt Bill - Từ ngày - Đến ngày - Description - Nhân viên - Tỷ giá - Chốt Bill - Ngày chốt Bill - Xác nhận của kế toán\")\n",
    "str_array.append(\"Nhân viên - Depot - ContID - OPT - Size - DateIn - Date Repair - Remark GD - Remark SC - Detail PS - Nguyên nhân phát sinh - Cost USD - Cost VND - Note - Phnr hồi của giám định - CreateDate\")\n",
    "str_array.append(\"ID - EIRNo - ContID - Hãng tàu - Size - Phân loại - Quét - Rửa nước - Nhổ đinh - Rửa hóa chất - Gỡ tem - Lột - Khử mùi - ContTareWeight - Thời điểm vào - Báo giá vệ sinh - Total Amount - PTI - Test Gas - Currency - Ngày hoàn thành BGVS\")\n",
    "str_array.append(\"VeSinhID - GiamDinhID - EIRNo - ContID - Content EDI vệ sinh - Ngày GateIn - OPT - Tình trạng báo giá vệ sinh - Đã gửi EDI vệ sinh - Thời điểm gửi EDI - Không gửi EDI - Hoàn thành vệ sinh\")\n",
    "str_array.append(\"Ngày - Ca - Tên lái xe nâng - Xe nâng - Dầu đầu ca - Dầu châm thêm - Dầu cuối ca - Dầu tiêu thụ - Số giờ đầu ca - Số giờ cuối ca - Giờ thực tế xe hoạt động - Thời gian hoạt động xe nâng - Thời gian ca - Dừng sửa bảo dưỡng - Số phút - Sản lượng LOLO 20' - Sản lượng LOLO 40' - Sản lượng MNR 20' - Sản lượng MNR 40' - Sản lượng đảo chuyển - Lốp xe đạt - Đề xuất lốp xe - Nhớt thủy lực đủ - Châm thêm nhớt thủy lực - Ống thủy lực đạt - Đề xuất ống thủy lực - Còi xe bình thường - Diễn dãi còi xe - Nhớt máy đủ - Châm thêm - Đèn chiếu sáng đủ - Diễn dãi đèn chiếu sáng - Nhớt hộp số đủ - Châm thêm - Nước làm mát đủ - Châm thêm - Ngáng đạt - Đề xuất ngáng - Khóa gù đạt - Đề xuất khóa gù - Tình trạng hoạt động của xe - Tình trạng sắp xếp cont - Kiến nghị của người giao - Kiến nghị người nhận - Hoàn thành\")\n",
    "str_array.append(\"Ngày đề xuất - Tên xe nâng - Xe nâng - Số lượng - Đơn vị - Nhiên liệu - Duyệt\")\n",
    "str_array.append(\"Phiếu đề nghị - Người đề nghị - Ngày tạo - Xe nâng - Nội dung đề nghị - Hình ảnh - Hoàn thành\")\n",
    "str_array.append(\"Phiếu đề xuất - Phiếu đề nghị - Hạng mục sửa chữa - Hiện trạng - Tên kỹ thuật - Ngày tạo - Bộ phận - Đề xuât sửa chữa - Hình ảnh đề xuất - Duyệt trưởng bộ phận - Duyệt CEO\")\n",
    "str_array.append(\"BBNT số - Ngày nghiệm thu - Người nghiệm thu - Bộ phận - Người sửa chữa - Chức vụ - Đơn vị - Phiếu đề xuất - Đánh giá tình trạng hoạt động sau sửa chữa - Chi tiết hạng mục BBNT - Thời gian bảo hành vật tư/thiết bị - Hình ảnh - Hoàn thành nghiệm thu\")\n",
    "str_array.append(\"STT - Lái xe nâng - Xe nâng - Ngày đảo chuyển - Cấp cont out - Chỉnh sai vị trí - Cont phát sinh - Đảo chuyển cấp cont - Đảo chuyển lấy cont SC - Đưa cont về cây - Hạ cont vào bãi - Hạ sửa chữa - Đảo chuyển Sunrice - PTI - Grand Total\")\n",
    "str_array.append(\"Container - Hãng tàu - Lái xe nâng - Xe nâng - Người yêu cầu - Tác vụ đảo chuyển - Lý do đảo chuyển - Ghi chú - Ngày đảo chuyển - Area - Block - Bay - Row - Tier - Vị trí ngoài\")\n",
    "str_array.append(\"Số phiếu - BBNT_ID - Depot - Tên xe nâng - Thời gian hỏng xe - Thời gian hoàn thành SC - Tên kỹ thuật viên - Thành tiền - Hình thức thanh toán - Số hóa đơn - Loại hóa đơn - Thời gian bảo hành - Ghi chú - Ngày nhận chứng từ - Nhân viên nhập - Hoàn thành\")\n",
    "str_array.append(\"STT - EIRNo - ContID - Hãng tàu - Size - MOVE - Số xe - CMND/ Số căn cước - Điện thoại - Tài xế - Thời điểm hoàn thành - Yes/No - Lý do thiếu EIR IN/OUT Cổng - Ghi chú đối soát - Nhân viên đối soát - Ngày đối soát\")\n",
    "str_array.append(\"Số giám định - InStock - ContID - Hãng tàu - Loại cont - Quét - Rửa nước - Rửa hóa chất - Nhổ đinh - Gỡ tem nguy hiểm - Lột - Khử mùi - Máy thổi - Mô tả hư hỏng - Yêu cầu sửa chữa - Phân loại - NV Giám định - Ngày tạo giám định - Hoàn thành giám định\")\n",
    "str_array.append(\"Hãng tàu - Báo giá độc lập - ContID - Size - Ngày giám định độc lập - GiamDinhSuaChua - Mô tả hư hỏng - Internal laborhour - TotalAmount - Ngày hoàn thành báo giá - Phân loại - Tình trạng báo giá\")\n",
    "str_array.append(\"Hãng tàu - Size - ContID - TrucNo - Phân loại trước sửa - Mô tả hư hỏng - Ngày hoàn thành báo giá - Ngày giờ bắt đầu - Ngày giờ kết thúc - Phân loại sau sửa chữa - Nhân viên sửa chữa - Đã in phiếu SC - Hoàn thành - Ngày hoàn thành SC - DateOut - User sửa cuối\")"
   ]
  },
  {
   "cell_type": "code",
   "execution_count": 4,
   "metadata": {},
   "outputs": [
    {
     "name": "stdout",
     "output_type": "stream",
     "text": [
      "['Số booking hãng tàu', 'Số booking khách hàng', 'Hãng tàu', 'Đại lý', 'Khách hàng HT', 'Ngày hết hạn hạ', 'Số ngày được Free', 'Số lượng cont in từng loại', 'Số Cont đã vào', 'Tổng số lượng', 'Số Cont còn']\n",
      "['EIRNo', 'EIR EDEPOT', 'Trạng thái thu tiền Đơn hàng eDepot', 'Hãng tàu', 'Đại lý', 'Số Cont', 'Loại cont', 'Hàng hóa', 'TLg cont', 'Tổng TLg', 'Số xe', 'CMND/ Số căn cước', 'Ghi chú chỉ định', 'Vị trí ngoài', 'Thời điểm vào', 'Phụ phí hạ tầng', 'Nâng hạ', 'Phí phụ thu rác', 'Phân loại Cont', 'Phân loại đóng hàng', 'Hình tài xế', 'Người tạo', 'Trái tuyến', 'Đã giám định', 'Đã ký tên phiếu e-EIR', 'Hoàn thành phiếu EIR', 'In EIR', 'In Hóa đơn', 'Đã In Vé Cổng (BV)', 'Đã in vé cổng (KH)', 'Đã in vé cổng (NB)', 'Hủy eir']\n",
      "['Mã', 'EIRNo', 'EIR EDEPOT', 'Booking Hãng tàu', 'Booking Khách hàng', 'Hãng tàu', 'ContID', 'Loại container', 'Phân loại đóng hàng', 'SealNo', 'Số xe', 'CMND/ Số căn cước', 'Phụ phí hạ tầng', 'Vé Nâng Hạ', 'Ghi chú', 'Phân loại', 'Remark', 'Xe nâng', 'Nhân viên LXN', 'Tier', 'Người tạo', 'Thời điểm mở phiếu', 'Thời điểm in EIR', 'Hình tài xế', 'Trái tuyến', 'Đã ký tên phiếu EIR', 'Hoàn thành phiếu EIR', 'Đã in EIR', 'Đã in HĐ', 'Đã in vé cổng (BV)', 'Đã in vé cổng (KH)', 'Đã in vé cổng (NB)', 'Hủy EIR']\n",
      "['ContID', 'EIRNo', 'ContTareWeight', 'ContWeight', 'ContYear', 'ContTypeSizeID', 'HangTauID', 'PhanLoaiID', 'Phân loại đóng hàng', 'SoNgayLuuBai', 'Ghi chú', 'DateIn', 'Ngày sửa chữa', 'Ngày báo giá', 'Ngày aprroved sửa chữa', 'Cảng chỉ định', 'Remark báo giá', 'Booking chỉ định', 'Ghi chú chỉ định', 'Remark', 'TrangthaiInstock']\n",
      "['ContID', 'ContTareWeight', 'ContWeight', 'ContYear', 'ContTypeSizeID', 'HangTauID', 'Booking chỉ định', 'Cảng chỉ định', 'Block', 'Area', 'Bay', 'PhanLoaiID', 'Phân loại đóng hàng', 'SoNgayLuuBai', 'Ngày hoàn thành PSC', 'Ngày báo giá', 'Mô tả hư hỏng', 'Mô tả', 'Description', 'DateIn', 'GhiChuStock', 'Ghi chú chỉ định', 'TrangthaiInstock', 'Ghi chú GateIn', 'Remark', 'BookingChiDinh']\n",
      "['Phiếu giám định', 'Số phiếu thu', 'CMND/ Số căn cước', 'Người nộp tiền', 'Số điện thoại', 'Khách hàng', 'Số tài khoản', 'Tên chi nhánh Ngân hàng', 'Lý do nộp', 'Ghi chú', 'Số Cont', 'Kèm theo', 'Nội dung thu', 'Hãng tàu', 'Số lượng cont', 'Loại cont', 'Số tiền', 'DaIn', 'Đã trả cược cho KH', 'Tiền nâng hạ đã trừ', 'Tiền còn lại', 'Người tạo', 'Ngày giờ tạo', 'Xác nhận đã thu tiền', 'Người xác nhận thu tiền', 'File đính kèm']\n",
      "['Ngày', 'Ca trực', 'Xe nâng', 'Tên LXN', 'Dầu đầu ca', 'Dầu châm thêm', 'Dầu cuối ca', 'Dầu tiêu thụ', 'Giờ đầu ca', 'Giờ cuối ca', 'Giờ thực tế xe hoạt động', 'Thời gian hoạt động xe nâng', 'Thời gian/Ca', 'Hệ số K', 'Ghi chú sửa chữa', 'Remark', 'Depot', 'Hệ số PC cho từng xe']\n",
      "['Hãng tàu', 'Tiếp đầu ngữ seal', 'Chiều dài ký tự seal', 'Active']\n",
      "['EIRNo', 'ContID', 'BookingHangtauNo', 'BookingKhachhangNo', 'ChuKhaiThachID', 'HangTauID', 'BookingExpdatetime', 'BookingDateTime', 'BookingType', 'Holdingtime', 'NgayHetHan', 'Shipper_CosigneeID', 'TauID', 'DiemDenID', 'BookingQuantity', 'DetailRequest', 'ChuyenID', 'GhiChu', 'ContTareWeight', 'ContWeight', 'ContYear', 'ContTypeSizeID', 'PhanLoaiID', 'TrangThaiContainer']\n",
      "['ContID', 'ContTareWeight', 'ContWeight', 'ContYear', 'ContTypeSizeID', 'HangTauID', 'Booking chỉ định', 'Cảng chỉ định', 'Block', 'Area', 'Bay', 'PhanLoaiID', 'Phân loại đóng hàng', 'SoNgayLuuBai', 'Ngày hoàn thành PSC', 'Ngày báo giá', 'Mô tả hư hỏng', 'Mô tả', 'Description', 'DateIn', 'GhiChuStock', 'Ghi chú chỉ định', 'TrangthaiInstock', 'Ghi chú GateIn', 'Remark', 'BookingChiDinh']\n",
      "['ChiDinhContlist', 'BookingID', 'BookingHangtauNo', 'BookingKhachhangNo', 'ChuKhaiThachID', 'HangTauID', 'ContID', 'EIRNo', 'Area', 'Block', 'Bay', 'Row', 'Tier', 'TrangthaiInstock', 'Vitringoai', 'PhanLoaiID', 'SoNgayLuuBai', 'MotaSuaChung', 'DateIn', 'BookingExpdatetime', 'BookingDateTime', 'GiaytoKemTheo', 'PhuongThucThanhToan', 'HinhThucThanhToan', 'BookingType', 'Holdingtime', 'NgayHetHan', 'Shipper_CosigneeID', 'TauID']\n",
      "['Dạng bảng và có các cột sau:  LoiAPIMSK', 'Phiếu EIR', 'EIR eDepot', 'Hãng tàu', 'Loại container', 'Số container', 'isSendAPIMSK', 'dateSendAPIMSK', 'Số xe', 'Tài xế', 'Phân loại', 'Phân loại đóng hàng', 'Hôi mùi', 'Quét', 'Rửa nước', 'Rửa hóa chất', 'Nhổ đinh', 'Gỡ tem nguy hiểm', 'Sàn thấm dầu', 'Khử mùi', 'Máy thổi', 'MayThoi', 'Ghi chú cấp cont', 'TG kết thúc GĐ', 'Ghi chú sửa chữa', 'NV Giám định', 'TotalAmount', 'Hoàn thành giám định', 'MotaHuHong', 'Thời điểm kết thúc', 'Thời điểm tạo']\n",
      "['Phiếu EIR', 'Số container', 'Loại container', 'Hãng tàu', 'Hãng tàu MMNR', 'Hoàn thành giám định', 'Không PTI', 'Số lần PTI', 'Thời gian bắt đầu PTI', 'Thời gian kết thúc PTI', 'Hoàn thành PTI', 'Nhân viên PTI']\n",
      "['Phiếu EIR', 'Container', 'HangTauID', 'ContTypeSizeID', 'Số xe', 'Quét', 'Rửa nước', 'Nhổ đinh', 'Rửa hóa chất', 'Gỡ tem', 'Sàn thấm dầu', 'Hôi mùi', 'Khử mùi', 'Máy thổi', 'NV vệ sinh', 'Thời điểm vào', 'Có vệ sinh', 'Hoàn thành vệ sinh']\n",
      "['BookingID', 'GateOutEIRNo', 'Hãng tàu', 'Số container', 'Loại container', 'Hàng hóa', 'TrangthaiInstock', 'Phân loại In stock', 'Số xe', 'Tài xế', 'Phân loại', 'Thời điểm vào', 'NV Giám định', 'Kết quả giảm định', 'Hoàn thành giám định']\n",
      "['PhieuGiamDinhID', 'BaogiaID', 'HangTauID', 'ContID', 'ContTypeSizeID', 'ContYear', 'Phân loại', 'Mô tả hư hỏng', 'Người tạo báo giá', 'Ngaybaogia', 'Ghi chú giám định', 'TotalAmount', 'Internal Labor Hour', 'FixingHours', 'PhanLoaiGiamDinh', 'TrangThai', 'Thời điểm vào', 'Ngày hoàn thành báo giá', 'TinhTrangBaoGia']\n",
      "['ID', 'HangTauID', 'ContID', 'ContTypeSizeID', 'ContYear', 'Phân loại trước sửa', 'Mô tả hư hỏng', 'Người nhập', 'Nhân viên Sửa chữa', 'NgayGioBatDau', 'NgayGioKetThuc', 'Ngày hoàn thành SC', 'Phân loại sau sửa', 'LyDo', 'Ngày vào bãi', 'Tình trạng GateIn', 'Số ngày chờ sửa', 'Tình trạng báo giá', 'Đã In Phiếu SC', 'HoanThanh', 'Đã nhập phiếu', 'Hoàn thành sửa vỏ', 'Hoàn thành sửa máy']\n",
      "['HangTauID', 'ContID', 'ContTypeSizeID', 'ContYear', 'Mô tả hư hỏng', 'Phân loại trước sửa', 'Ngày GateIn', 'NgayGioBatDau', 'NgayGioKetThuc', 'Ngày hoàn thành SC', 'Phân loại sau sửa', 'Internal Labor Hour', 'FixingHours', 'TotalAmount', 'Tình trạng hoàn thành', 'Xác nhận phân loại', 'HoanThanhXacNhan', 'Thời gian xác nhận báo giá', 'Thời gian xác nhận sửa chữa', 'User xác nhận SC']\n",
      "['BaogiaID', 'DepotID', 'OPT', 'ContID', 'Ngày báo giá', 'Hoàn thành báo giá', 'Content EDI Sửa chữa', 'TotalAmount', 'Không gửi EDI', 'Đã gửi EDI', 'Thời điểm gửi EDI']\n",
      "['Tên bill', 'OPT', 'Method', 'Date', 'Kỳ tài chính', 'Size', 'PIC', 'Included VAT', 'Bill To', 'Excluded VAT', 'CFM', 'Vol', 'Currency', 'Vat Rate', 'Amount', 'Total', 'Phương pháp chốt Bill', 'Từ ngày', 'Đến ngày', 'Description', 'Nhân viên', 'Tỷ giá', 'Chốt Bill', 'Ngày chốt Bill', 'Xác nhận của kế toán']\n",
      "['Nhân viên', 'Depot', 'ContID', 'OPT', 'Size', 'DateIn', 'Date Repair', 'Remark GD', 'Remark SC', 'Detail PS', 'Nguyên nhân phát sinh', 'Cost USD', 'Cost VND', 'Note', 'Phnr hồi của giám định', 'CreateDate']\n",
      "['ID', 'EIRNo', 'ContID', 'Hãng tàu', 'Size', 'Phân loại', 'Quét', 'Rửa nước', 'Nhổ đinh', 'Rửa hóa chất', 'Gỡ tem', 'Lột', 'Khử mùi', 'ContTareWeight', 'Thời điểm vào', 'Báo giá vệ sinh', 'Total Amount', 'PTI', 'Test Gas', 'Currency', 'Ngày hoàn thành BGVS']\n",
      "['VeSinhID', 'GiamDinhID', 'EIRNo', 'ContID', 'Content EDI vệ sinh', 'Ngày GateIn', 'OPT', 'Tình trạng báo giá vệ sinh', 'Đã gửi EDI vệ sinh', 'Thời điểm gửi EDI', 'Không gửi EDI', 'Hoàn thành vệ sinh']\n",
      "['Ngày', 'Ca', 'Tên lái xe nâng', 'Xe nâng', 'Dầu đầu ca', 'Dầu châm thêm', 'Dầu cuối ca', 'Dầu tiêu thụ', 'Số giờ đầu ca', 'Số giờ cuối ca', 'Giờ thực tế xe hoạt động', 'Thời gian hoạt động xe nâng', 'Thời gian ca', 'Dừng sửa bảo dưỡng', 'Số phút', \"Sản lượng LOLO 20'\", \"Sản lượng LOLO 40'\", \"Sản lượng MNR 20'\", \"Sản lượng MNR 40'\", 'Sản lượng đảo chuyển', 'Lốp xe đạt', 'Đề xuất lốp xe', 'Nhớt thủy lực đủ', 'Châm thêm nhớt thủy lực', 'Ống thủy lực đạt', 'Đề xuất ống thủy lực', 'Còi xe bình thường', 'Diễn dãi còi xe', 'Nhớt máy đủ', 'Châm thêm', 'Đèn chiếu sáng đủ', 'Diễn dãi đèn chiếu sáng', 'Nhớt hộp số đủ', 'Châm thêm', 'Nước làm mát đủ', 'Châm thêm', 'Ngáng đạt', 'Đề xuất ngáng', 'Khóa gù đạt', 'Đề xuất khóa gù', 'Tình trạng hoạt động của xe', 'Tình trạng sắp xếp cont', 'Kiến nghị của người giao', 'Kiến nghị người nhận', 'Hoàn thành']\n",
      "['Ngày đề xuất', 'Tên xe nâng', 'Xe nâng', 'Số lượng', 'Đơn vị', 'Nhiên liệu', 'Duyệt']\n",
      "['Phiếu đề nghị', 'Người đề nghị', 'Ngày tạo', 'Xe nâng', 'Nội dung đề nghị', 'Hình ảnh', 'Hoàn thành']\n",
      "['Phiếu đề xuất', 'Phiếu đề nghị', 'Hạng mục sửa chữa', 'Hiện trạng', 'Tên kỹ thuật', 'Ngày tạo', 'Bộ phận', 'Đề xuât sửa chữa', 'Hình ảnh đề xuất', 'Duyệt trưởng bộ phận', 'Duyệt CEO']\n",
      "['BBNT số', 'Ngày nghiệm thu', 'Người nghiệm thu', 'Bộ phận', 'Người sửa chữa', 'Chức vụ', 'Đơn vị', 'Phiếu đề xuất', 'Đánh giá tình trạng hoạt động sau sửa chữa', 'Chi tiết hạng mục BBNT', 'Thời gian bảo hành vật tư/thiết bị', 'Hình ảnh', 'Hoàn thành nghiệm thu']\n",
      "['STT', 'Lái xe nâng', 'Xe nâng', 'Ngày đảo chuyển', 'Cấp cont out', 'Chỉnh sai vị trí', 'Cont phát sinh', 'Đảo chuyển cấp cont', 'Đảo chuyển lấy cont SC', 'Đưa cont về cây', 'Hạ cont vào bãi', 'Hạ sửa chữa', 'Đảo chuyển Sunrice', 'PTI', 'Grand Total']\n",
      "['Container', 'Hãng tàu', 'Lái xe nâng', 'Xe nâng', 'Người yêu cầu', 'Tác vụ đảo chuyển', 'Lý do đảo chuyển', 'Ghi chú', 'Ngày đảo chuyển', 'Area', 'Block', 'Bay', 'Row', 'Tier', 'Vị trí ngoài']\n",
      "['Số phiếu', 'BBNT_ID', 'Depot', 'Tên xe nâng', 'Thời gian hỏng xe', 'Thời gian hoàn thành SC', 'Tên kỹ thuật viên', 'Thành tiền', 'Hình thức thanh toán', 'Số hóa đơn', 'Loại hóa đơn', 'Thời gian bảo hành', 'Ghi chú', 'Ngày nhận chứng từ', 'Nhân viên nhập', 'Hoàn thành']\n",
      "['STT', 'EIRNo', 'ContID', 'Hãng tàu', 'Size', 'MOVE', 'Số xe', 'CMND/ Số căn cước', 'Điện thoại', 'Tài xế', 'Thời điểm hoàn thành', 'Yes/No', 'Lý do thiếu EIR IN/OUT Cổng', 'Ghi chú đối soát', 'Nhân viên đối soát', 'Ngày đối soát']\n",
      "['Số giám định', 'InStock', 'ContID', 'Hãng tàu', 'Loại cont', 'Quét', 'Rửa nước', 'Rửa hóa chất', 'Nhổ đinh', 'Gỡ tem nguy hiểm', 'Lột', 'Khử mùi', 'Máy thổi', 'Mô tả hư hỏng', 'Yêu cầu sửa chữa', 'Phân loại', 'NV Giám định', 'Ngày tạo giám định', 'Hoàn thành giám định']\n",
      "['Hãng tàu', 'Báo giá độc lập', 'ContID', 'Size', 'Ngày giám định độc lập', 'GiamDinhSuaChua', 'Mô tả hư hỏng', 'Internal laborhour', 'TotalAmount', 'Ngày hoàn thành báo giá', 'Phân loại', 'Tình trạng báo giá']\n",
      "['Hãng tàu', 'Size', 'ContID', 'TrucNo', 'Phân loại trước sửa', 'Mô tả hư hỏng', 'Ngày hoàn thành báo giá', 'Ngày giờ bắt đầu', 'Ngày giờ kết thúc', 'Phân loại sau sửa chữa', 'Nhân viên sửa chữa', 'Đã in phiếu SC', 'Hoàn thành', 'Ngày hoàn thành SC', 'DateOut', 'User sửa cuối']\n"
     ]
    }
   ],
   "source": [
    "for i in range(len(str_array)):\n",
    "    array = str_array[i].split(' - ')\n",
    "    print(array)\n",
    "    # id = str(i)\n",
    "    pd.DataFrame(array).to_csv(path_or_buf= \"gpg/gpg_\" + str(i) + \".csv\", index=False, header=False)"
   ]
  }
 ],
 "metadata": {
  "kernelspec": {
   "display_name": "Python 3.10.4 ('base')",
   "language": "python",
   "name": "python3"
  },
  "language_info": {
   "codemirror_mode": {
    "name": "ipython",
    "version": 3
   },
   "file_extension": ".py",
   "mimetype": "text/x-python",
   "name": "python",
   "nbconvert_exporter": "python",
   "pygments_lexer": "ipython3",
   "version": "3.10.4"
  },
  "orig_nbformat": 4,
  "vscode": {
   "interpreter": {
    "hash": "3b392867d34c15fd81efc0e6e696e723f38c9c666be2e1ec9dc6fdb1e725f84e"
   }
  }
 },
 "nbformat": 4,
 "nbformat_minor": 2
}
