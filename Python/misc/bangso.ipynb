{
 "cells": [
  {
   "cell_type": "code",
   "execution_count": 19,
   "metadata": {},
   "outputs": [],
   "source": [
    "import numpy as np"
   ]
  },
  {
   "cell_type": "code",
   "execution_count": 20,
   "metadata": {},
   "outputs": [
    {
     "name": "stdout",
     "output_type": "stream",
     "text": [
      "[0 2 1 3 2 2 2 1 1 5 1 2 2 2 2 1 1 2 5 1 1 1 2 1 0 1 0 3 1 0 1 1 0 0 0 0 2\n",
      " 0 0 1 1 0 0 0 0 1 0 0 0 0]\n",
      "9\n"
     ]
    }
   ],
   "source": [
    "array = np.array([5,1,3,8,1,2,3,4,9,9,9])\n",
    "lut = np.zeros(shape=50, dtype=np.int16)\n",
    "for conv_size in range(1,len(array)):\n",
    "    for i in range(len(array)-conv_size):\n",
    "        sum = 0\n",
    "        for j in range(conv_size):\n",
    "            sum += array[i+j]\n",
    "        lut[sum] += 1\n",
    "print(lut)\n",
    "max_val = np.argmax(lut)\n",
    "print(max_val)"
   ]
  },
  {
   "cell_type": "code",
   "execution_count": 21,
   "metadata": {},
   "outputs": [
    {
     "name": "stdout",
     "output_type": "stream",
     "text": [
      "[9]\n",
      "[9]\n",
      "[9]\n",
      "[8 1]\n",
      "[5 1 3]\n",
      "[2 3 4]\n"
     ]
    }
   ],
   "source": [
    "for conv_size in range(1,len(array)):\n",
    "    for i in range(len(array)-conv_size+1):\n",
    "        sum = 0\n",
    "        for j in range(conv_size):\n",
    "            sum += array[i+j]\n",
    "        if sum == max_val:\n",
    "            print(array[i:i+conv_size])"
   ]
  }
 ],
 "metadata": {
  "kernelspec": {
   "display_name": "Python 3",
   "language": "python",
   "name": "python3"
  },
  "language_info": {
   "codemirror_mode": {
    "name": "ipython",
    "version": 3
   },
   "file_extension": ".py",
   "mimetype": "text/x-python",
   "name": "python",
   "nbconvert_exporter": "python",
   "pygments_lexer": "ipython3",
   "version": "3.11.2"
  },
  "orig_nbformat": 4
 },
 "nbformat": 4,
 "nbformat_minor": 2
}
