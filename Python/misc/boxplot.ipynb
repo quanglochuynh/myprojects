{
 "cells": [
  {
   "cell_type": "code",
   "execution_count": 2,
   "metadata": {},
   "outputs": [],
   "source": [
    "import matplotlib.pyplot as plt\n",
    "import numpy as np\n",
    "import csv"
   ]
  },
  {
   "cell_type": "code",
   "execution_count": 3,
   "metadata": {},
   "outputs": [],
   "source": [
    "path1 = 'C:/Users/quang/iCloudDrive/Study/Sem truoc/Sem1 nam 4/Capstone/Matlab/Universal/time1.csv'\n",
    "path2 = 'C:/Users/quang/iCloudDrive/Study/Sem truoc/Sem1 nam 4/Capstone/Matlab/Universal/time2.csv'"
   ]
  },
  {
   "cell_type": "code",
   "execution_count": 4,
   "metadata": {},
   "outputs": [],
   "source": [
    "with open(path1) as csv_file:\n",
    "    data = []\n",
    "    i=0\n",
    "    csv_reader = csv.reader(csv_file, delimiter=',')\n",
    "    for row in csv_reader:\n",
    "        i=i+1\n",
    "        data.append(row)\n",
    "\n",
    "time1 = np.asarray(data, dtype=np.float32)\n",
    "time1 = np.transpose(time1)\n",
    "\n",
    "with open(path2) as csv_file:\n",
    "    data = []\n",
    "    i=0\n",
    "    csv_reader = csv.reader(csv_file, delimiter=',')\n",
    "    for row in csv_reader:\n",
    "        i=i+1\n",
    "        data.append(row)\n",
    "\n",
    "time2 = np.asarray(data, dtype=np.float32)\n",
    "time2 = np.transpose(time2)\n"
   ]
  },
  {
   "cell_type": "code",
   "execution_count": 5,
   "metadata": {},
   "outputs": [],
   "source": [
    "ticks = [\"Zig zag\", \"Concave 1\", \"Concave 2\", \"Warehouse\"]"
   ]
  },
  {
   "cell_type": "code",
   "execution_count": 6,
   "metadata": {},
   "outputs": [],
   "source": [
    "def set_box_color(bp, color):\n",
    "    plt.setp(bp['boxes'], color=color)\n",
    "    plt.setp(bp['whiskers'], color=color)\n",
    "    plt.setp(bp['caps'], color=color)\n",
    "    plt.setp(bp['medians'], color=color)\n",
    "    # plt.setp(bp['linewidth'], 2)\n"
   ]
  },
  {
   "cell_type": "code",
   "execution_count": null,
   "metadata": {},
   "outputs": [],
   "source": []
  },
  {
   "cell_type": "code",
   "execution_count": 7,
   "metadata": {},
   "outputs": [
    {
     "data": {
      "image/png": "[encoded data removed]",
      "text/plain": [
       "<Figure size 576x432 with 1 Axes>"
      ]
     },
     "metadata": {
      "needs_background": "light"
     },
     "output_type": "display_data"
    }
   ],
   "source": [
    "plt.rcParams[\"figure.figsize\"] = (8,6)\n",
    "\n",
    "plt.figure()\n",
    "plt.grid(True, which='major', axis='y')\n",
    "plt.ylabel('Second')\n",
    "\n",
    "bpl = plt.boxplot(time1, positions=np.array(range(4))*2.0-0.25, sym='', widths=0.4, whiskerprops=dict(linewidth=1.0), boxprops= dict(linewidth=3.0))\n",
    "bpr = plt.boxplot(time2, positions=np.array(range(4))*2.0+0.25, sym='', widths=0.4, whiskerprops=dict(linewidth=1.0), boxprops= dict(linewidth=3.0))\n",
    "set_box_color(bpl, '#FFC000') \n",
    "set_box_color(bpr, '#53BF9D')\n",
    "plt.plot([], c='#FFC000', label='Informed RRT*-connect')\n",
    "plt.plot([], c='#53BF9D', label='Intermediary RRT*-PSO')\n",
    "plt.legend()\n",
    "plt.xticks(range(0, len(ticks) * 2, 2), ticks)\n",
    "plt.xlim(-1, len(ticks)*2-1)\n",
    "# plt.ylim(0, 8)\n",
    "plt.tight_layout()\n",
    "plt.savefig('time.png')"
   ]
  },
  {
   "cell_type": "code",
   "execution_count": null,
   "metadata": {},
   "outputs": [],
   "source": []
  }
 ],
 "metadata": {
  "kernelspec": {
   "display_name": "Python 3.10.4 64-bit",
   "language": "python",
   "name": "python3"
  },
  "language_info": {
   "codemirror_mode": {
    "name": "ipython",
    "version": 3
   },
   "file_extension": ".py",
   "mimetype": "text/x-python",
   "name": "python",
   "nbconvert_exporter": "python",
   "pygments_lexer": "ipython3",
   "version": "3.10.4"
  },
  "orig_nbformat": 4,
  "vscode": {
   "interpreter": {
    "hash": "26de051ba29f2982a8de78e945f0abaf191376122a1563185a90213a26c5da77"
   }
  }
 },
 "nbformat": 4,
 "nbformat_minor": 2
}
