{
 "cells": [
  {
   "cell_type": "code",
   "execution_count": 35,
   "metadata": {},
   "outputs": [],
   "source": [
    "import numpy as np\n",
    "import matplotlib.pyplot as plt\n",
    "import os\n",
    "import cv2\n",
    "fol_dir = ''\n",
    "\n"
   ]
  },
  {
   "cell_type": "code",
   "execution_count": 36,
   "metadata": {},
   "outputs": [
    {
     "name": "stdout",
     "output_type": "stream",
     "text": [
      "['GDSC_0696.jpg', 'GDSC_0697.jpg', 'GDSC_0698.jpg', 'GDSC_0699.jpg', 'GDSC_0700.jpg', 'GDSC_0701.jpg', 'GDSC_0702.jpg', 'GDSC_0703.jpg', 'GDSC_0704.jpg', 'GDSC_0705.jpg', 'GDSC_0706.jpg', 'GDSC_0707.jpg', 'GDSC_0708.jpg', 'GDSC_0709.jpg', 'GDSC_0710.jpg', 'GDSC_0711.jpg', 'GDSC_0712.jpg', 'GDSC_0713.jpg', 'GDSC_0714.jpg', 'GDSC_0715.jpg', 'GDSC_0716.jpg', 'GDSC_0717.jpg', 'GDSC_0718.jpg', 'GDSC_0719.jpg', 'GDSC_0720.jpg']\n"
     ]
    }
   ],
   "source": [
    "# fol_dir = input(\"Kéo folder chứa hình vô đây. LẸ!!\")\n",
    "fol_dir = 'C:/Users/quang/Desktop/test'\n",
    "im_dir = os.listdir(fol_dir)\n",
    "print(im_dir)"
   ]
  },
  {
   "cell_type": "code",
   "execution_count": 45,
   "metadata": {},
   "outputs": [
    {
     "data": {
      "image/png": "[encoded data removed]",
      "text/plain": [
       "<Figure size 432x288 with 1 Axes>"
      ]
     },
     "metadata": {
      "needs_background": "light"
     },
     "output_type": "display_data"
    }
   ],
   "source": [
    "# wm_dir = input(\"Kéo file watermark vô đây.\")\n",
    "wm_dir = 'D:\\GDSC\\Assets\\Logos\\GDSC Logo.png'\n",
    "wm = cv2.imread(wm_dir);\n",
    "wm = wm[:,:,0:3]\n",
    "wm = cv2.resize(wm, dsize=None, fx=0.5, fy=0.5)\n",
    "plt.imshow(wm);\n",
    "plt.show()"
   ]
  },
  {
   "cell_type": "code",
   "execution_count": 46,
   "metadata": {},
   "outputs": [
    {
     "name": "stdout",
     "output_type": "stream",
     "text": [
      "(242, 500, 3)\n"
     ]
    }
   ],
   "source": [
    "wm_shape = np.shape(wm)\n",
    "print(wm_shape)"
   ]
  },
  {
   "cell_type": "code",
   "execution_count": 47,
   "metadata": {},
   "outputs": [
    {
     "name": "stdout",
     "output_type": "stream",
     "text": [
      "GDSC_0696.jpg\n"
     ]
    }
   ],
   "source": [
    "for dir in im_dir:\n",
    "    print(dir)\n",
    "    logo = wm\n",
    "    img = cv2.imread(fol_dir + '/' + dir)\n",
    "    # calculating dimensions\n",
    "    # height and width of the logo\n",
    "    h_logo, w_logo, c = logo.shape\n",
    "    # height and width of the image\n",
    "    h_img, w_img, c = img.shape\n",
    "    # calculating coordinates of center\n",
    "    # calculating center, where we are going to \n",
    "    # place our watermark\n",
    "    center_y = int(h_img - h_logo/2) #int(h_img/2)\n",
    "    center_x = int(w_logo/2)\n",
    "    # calculating from top, bottom, right and left\n",
    "    top_y = center_y - int(h_logo/2)\n",
    "    left_x = center_x - int(w_logo/2)\n",
    "    bottom_y = top_y + h_logo\n",
    "    right_x = left_x + w_logo\n",
    "    # adding watermark to the image\n",
    "    destination = img[top_y:bottom_y, left_x:right_x]\n",
    "    result = cv2.addWeighted(destination, 1, logo, 0.5, 0)\n",
    "    # displaying and saving image\n",
    "    img[top_y:bottom_y, left_x:right_x] = result\n",
    "    cv2.imwrite(fol_dir + '/' + dir[0:len(dir)-4] + '_watermarked.jpeg',img);\n",
    "    break\n"
   ]
  }
 ],
 "metadata": {
  "kernelspec": {
   "display_name": "Python 3.10.5 64-bit",
   "language": "python",
   "name": "python3"
  },
  "language_info": {
   "codemirror_mode": {
    "name": "ipython",
    "version": 3
   },
   "file_extension": ".py",
   "mimetype": "text/x-python",
   "name": "python",
   "nbconvert_exporter": "python",
   "pygments_lexer": "ipython3",
   "version": "3.10.5"
  },
  "orig_nbformat": 4,
  "vscode": {
   "interpreter": {
    "hash": "26de051ba29f2982a8de78e945f0abaf191376122a1563185a90213a26c5da77"
   }
  }
 },
 "nbformat": 4,
 "nbformat_minor": 2
}
